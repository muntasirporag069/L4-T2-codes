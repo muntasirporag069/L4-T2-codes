{
 "cells": [
  {
   "cell_type": "markdown",
   "metadata": {},
   "source": [
    "# Loading and Splitting Dataset"
   ]
  },
  {
   "cell_type": "markdown",
   "metadata": {},
   "source": [
    "## Loading Dataset"
   ]
  },
  {
   "cell_type": "code",
   "execution_count": 1,
   "metadata": {},
   "outputs": [],
   "source": [
    "from datasets import load_dataset\n",
    "\n",
    "op_dataset_raw = load_dataset(\"csv\" , data_files=r\"D:\\Virtual Environments\\Thesis\\datasets\\OpSpam dataset.csv\")\n",
    "op_dataset_raw = op_dataset_raw[\"train\"].remove_columns(['hotel' , 'source'])"
   ]
  },
  {
   "cell_type": "markdown",
   "metadata": {},
   "source": [
    "## Preprocessing op dataset"
   ]
  },
  {
   "cell_type": "code",
   "execution_count": 2,
   "metadata": {},
   "outputs": [
    {
     "name": "stdout",
     "output_type": "stream",
     "text": [
      "['truthful_positive', 'truthful_negative', 'deceptive_positive', 'deceptive_negative']\n"
     ]
    }
   ],
   "source": [
    "def combine_labels(record):\n",
    "    record[\"label\"] = record[\"deceptive\"] + \"_\" + record[\"polarity\"]\n",
    "    return record\n",
    "op_dataset_raw = op_dataset_raw.map(combine_labels)\n",
    "op_dataset_raw = op_dataset_raw.remove_columns([\"deceptive\" , \"polarity\"])\n",
    "\n",
    "unique_classes = list(set(op_dataset_raw[\"label\"]))\n",
    "unique_classes.sort(reverse=True)\n",
    "print(unique_classes)\n",
    "\n",
    "def one_hot_encoding(record):\n",
    "    record[\"label\"] = unique_classes.index(record[\"label\"])\n",
    "    return record\n",
    "\n",
    "op_dataset_raw = op_dataset_raw.map(one_hot_encoding)\n"
   ]
  },
  {
   "cell_type": "code",
   "execution_count": 3,
   "metadata": {},
   "outputs": [
    {
     "data": {
      "text/plain": [
       "{'text': 'We stayed for a one night getaway with family on a thursday. Triple AAA rate of 173 was a steal. 7th floor room complete with 44in plasma TV bose stereo, voss and evian water, and gorgeous bathroom(no tub but was fine for us) Concierge was very helpful. You cannot beat this location... Only flaw was breakfast was pricey and service was very very slow(2hours for four kids and four adults on a friday morning) even though there were only two other tables in the restaurant. Food was very good so it was worth the wait. I would return in a heartbeat. A gem in chicago... \\n',\n",
       " 'label': 0}"
      ]
     },
     "execution_count": 3,
     "metadata": {},
     "output_type": "execute_result"
    }
   ],
   "source": [
    "op_dataset_raw[0]"
   ]
  },
  {
   "cell_type": "markdown",
   "metadata": {},
   "source": [
    "## Data Visualization"
   ]
  },
  {
   "cell_type": "code",
   "execution_count": 3,
   "metadata": {},
   "outputs": [
    {
     "data": {
      "image/png": "[encoded data removed]",
      "text/plain": [
       "<Figure size 800x500 with 1 Axes>"
      ]
     },
     "metadata": {},
     "output_type": "display_data"
    }
   ],
   "source": [
    "import matplotlib.pyplot as plt\n",
    "\n",
    "# Convert the dataset to a pandas DataFrame\n",
    "df1 = op_dataset_raw.to_pandas()\n",
    "\n",
    "# Use pandas value_counts to count the labels\n",
    "label_counts = df1['label'].value_counts().sort_index()\n",
    "\n",
    "label_counts.plot(kind='bar', figsize=(8, 5), color='cyan')\n",
    "plt.xlabel('Label')\n",
    "plt.ylabel('Number of Records')\n",
    "plt.title('Number of Records per Label')\n",
    "plt.show()\n"
   ]
  },
  {
   "cell_type": "markdown",
   "metadata": {},
   "source": [
    "## Splitting Dataset"
   ]
  },
  {
   "cell_type": "code",
   "execution_count": 4,
   "metadata": {},
   "outputs": [],
   "source": [
    "from datasets import DatasetDict, Dataset\n",
    "\n",
    "split_dataset_op = op_dataset_raw.train_test_split(test_size=0.1 , seed=42)\n",
    "train_test_split_op = split_dataset_op[\"train\"].train_test_split(test_size=0.1111 , seed=42)\n",
    "op_dataset = DatasetDict({\n",
    "    \"train\" : train_test_split_op[\"train\"],\n",
    "    \"test\" : train_test_split_op[\"test\"],\n",
    "    \"validation\" : split_dataset_op[\"test\"]\n",
    "})\n"
   ]
  },
  {
   "cell_type": "code",
   "execution_count": 13,
   "metadata": {},
   "outputs": [
    {
     "data": {
      "text/plain": [
       "DatasetDict({\n",
       "    train: Dataset({\n",
       "        features: ['text', 'label'],\n",
       "        num_rows: 1280\n",
       "    })\n",
       "    test: Dataset({\n",
       "        features: ['text', 'label'],\n",
       "        num_rows: 160\n",
       "    })\n",
       "    validation: Dataset({\n",
       "        features: ['text', 'label'],\n",
       "        num_rows: 160\n",
       "    })\n",
       "})"
      ]
     },
     "execution_count": 13,
     "metadata": {},
     "output_type": "execute_result"
    }
   ],
   "source": [
    "op_dataset"
   ]
  },
  {
   "cell_type": "markdown",
   "metadata": {},
   "source": [
    "# Tokenization"
   ]
  },
  {
   "cell_type": "markdown",
   "metadata": {},
   "source": [
    "## Tokenization Function"
   ]
  },
  {
   "cell_type": "code",
   "execution_count": 5,
   "metadata": {},
   "outputs": [],
   "source": [
    "from transformers import AutoTokenizer, DataCollatorWithPadding\n",
    "\n",
    "# tokenizer also passed to ensure used tokenizer is of same checkpoint as the model\n",
    "# Dynamic Padding. Hence, dp\n",
    "def tokenize(example , tokenizer):\n",
    "    return tokenizer(example[\"text\"], truncation=True)\n"
   ]
  },
  {
   "cell_type": "markdown",
   "metadata": {},
   "source": [
    "## Tokenization"
   ]
  },
  {
   "cell_type": "markdown",
   "metadata": {},
   "source": [
    "### Electra"
   ]
  },
  {
   "cell_type": "code",
   "execution_count": 9,
   "metadata": {},
   "outputs": [],
   "source": [
    "electra_checkpoint = 'google/electra-base-discriminator'\n",
    "electra_tokenizer = AutoTokenizer.from_pretrained(electra_checkpoint)\n",
    "tokenized_dataset_dp_electra_op = op_dataset.map(tokenize, batched=True, fn_kwargs={'tokenizer': electra_tokenizer})"
   ]
  },
  {
   "cell_type": "markdown",
   "metadata": {},
   "source": [
    "### BERT"
   ]
  },
  {
   "cell_type": "code",
   "execution_count": 10,
   "metadata": {},
   "outputs": [],
   "source": [
    "bert_checkpoint = \"bert-base-uncased\"\n",
    "bert_tokenizer = AutoTokenizer.from_pretrained(bert_checkpoint)\n",
    "tokenized_dataset_dp_bert_op = op_dataset.map(tokenize , batched = True , fn_kwargs = {'tokenizer' : bert_tokenizer})"
   ]
  },
  {
   "cell_type": "markdown",
   "metadata": {},
   "source": [
    "###  DistilBERT"
   ]
  },
  {
   "cell_type": "code",
   "execution_count": 11,
   "metadata": {},
   "outputs": [],
   "source": [
    "distilbert_checkpoint = \"distilbert/distilbert-base-uncased\"\n",
    "distilbert_tokenizer = AutoTokenizer.from_pretrained(distilbert_checkpoint)\n",
    "tokenized_dataset_dp_distilbert_op = op_dataset.map(tokenize, batched=True , fn_kwargs= {'tokenizer' : distilbert_tokenizer})"
   ]
  },
  {
   "cell_type": "markdown",
   "metadata": {},
   "source": [
    "### RoBERTa"
   ]
  },
  {
   "cell_type": "code",
   "execution_count": 12,
   "metadata": {},
   "outputs": [],
   "source": [
    "roberta_checkpoint = \"FacebookAI/roberta-base\"\n",
    "roberta_tokenizer = AutoTokenizer.from_pretrained(roberta_checkpoint)\n",
    "tokenized_dataset_dp_roberta_op = op_dataset.map(tokenize, batched=True , fn_kwargs= {'tokenizer' : roberta_tokenizer})"
   ]
  },
  {
   "cell_type": "markdown",
   "metadata": {},
   "source": [
    "# Evaluate Function"
   ]
  },
  {
   "cell_type": "code",
   "execution_count": 13,
   "metadata": {},
   "outputs": [],
   "source": [
    "import evaluate\n",
    "import numpy as np\n",
    "\n",
    "def compute_metrics(evaluation_predictions):\n",
    "  logits , actual_labels = evaluation_predictions\n",
    "  accuracy_metric = evaluate.load(\"accuracy\")\n",
    "  f1_metric = evaluate.load(\"f1\")\n",
    "  precision_metric = evaluate.load(\"precision\")\n",
    "  recall_metric = evaluate.load(\"recall\")\n",
    "\n",
    "  predicted_labels = np.argmax(logits , axis = -1)\n",
    "  accuracy = accuracy_metric.compute(predictions=predicted_labels , references=actual_labels)\n",
    "  f1 = f1_metric.compute(predictions=predicted_labels , references=actual_labels, average='macro')\n",
    "  precision = precision_metric.compute(predictions=predicted_labels , references=actual_labels , average='macro')\n",
    "  recall = recall_metric.compute(predictions=predicted_labels , references=actual_labels, average='macro')\n",
    "\n",
    "  return {**accuracy , **f1 , **precision , **recall}"
   ]
  },
  {
   "cell_type": "markdown",
   "metadata": {},
   "source": [
    "# Training"
   ]
  },
  {
   "cell_type": "markdown",
   "metadata": {},
   "source": [
    "## Electra"
   ]
  },
  {
   "cell_type": "code",
   "execution_count": 19,
   "metadata": {},
   "outputs": [],
   "source": [
    "import torch\n",
    "torch.cuda.empty_cache()"
   ]
  },
  {
   "cell_type": "code",
   "execution_count": 36,
   "metadata": {},
   "outputs": [
    {
     "name": "stderr",
     "output_type": "stream",
     "text": [
      "Some weights of ElectraForSequenceClassification were not initialized from the model checkpoint at google/electra-base-discriminator and are newly initialized: ['classifier.dense.bias', 'classifier.dense.weight', 'classifier.out_proj.bias', 'classifier.out_proj.weight']\n",
      "You should probably TRAIN this model on a down-stream task to be able to use it for predictions and inference.\n"
     ]
    },
    {
     "data": {
      "text/html": [
       "\n",
       "    <div>\n",
       "      \n",
       "      <progress value='400' max='400' style='width:300px; height:20px; vertical-align: middle;'></progress>\n",
       "      [400/400 3:01:01, Epoch 5/5]\n",
       "    </div>\n",
       "    <table border=\"1\" class=\"dataframe\">\n",
       "  <thead>\n",
       " <tr style=\"text-align: left;\">\n",
       "      <th>Epoch</th>\n",
       "      <th>Training Loss</th>\n",
       "      <th>Validation Loss</th>\n",
       "      <th>Accuracy</th>\n",
       "      <th>F1</th>\n",
       "      <th>Precision</th>\n",
       "      <th>Recall</th>\n",
       "    </tr>\n",
       "  </thead>\n",
       "  <tbody>\n",
       "    <tr>\n",
       "      <td>1</td>\n",
       "      <td>No log</td>\n",
       "      <td>0.686313</td>\n",
       "      <td>0.787500</td>\n",
       "      <td>0.776525</td>\n",
       "      <td>0.810812</td>\n",
       "      <td>0.778551</td>\n",
       "    </tr>\n",
       "    <tr>\n",
       "      <td>2</td>\n",
       "      <td>No log</td>\n",
       "      <td>0.455159</td>\n",
       "      <td>0.825000</td>\n",
       "      <td>0.812820</td>\n",
       "      <td>0.846578</td>\n",
       "      <td>0.811080</td>\n",
       "    </tr>\n",
       "    <tr>\n",
       "      <td>3</td>\n",
       "      <td>No log</td>\n",
       "      <td>0.313603</td>\n",
       "      <td>0.893750</td>\n",
       "      <td>0.892086</td>\n",
       "      <td>0.891376</td>\n",
       "      <td>0.894744</td>\n",
       "    </tr>\n",
       "    <tr>\n",
       "      <td>4</td>\n",
       "      <td>No log</td>\n",
       "      <td>0.457251</td>\n",
       "      <td>0.837500</td>\n",
       "      <td>0.821222</td>\n",
       "      <td>0.871429</td>\n",
       "      <td>0.817187</td>\n",
       "    </tr>\n",
       "    <tr>\n",
       "      <td>5</td>\n",
       "      <td>No log</td>\n",
       "      <td>0.355101</td>\n",
       "      <td>0.875000</td>\n",
       "      <td>0.867921</td>\n",
       "      <td>0.875199</td>\n",
       "      <td>0.865341</td>\n",
       "    </tr>\n",
       "  </tbody>\n",
       "</table><p>"
      ],
      "text/plain": [
       "<IPython.core.display.HTML object>"
      ]
     },
     "metadata": {},
     "output_type": "display_data"
    }
   ],
   "source": [
    "from transformers import AutoModelForSequenceClassification, AutoTokenizer , Trainer, TrainingArguments\n",
    "\n",
    "model = AutoModelForSequenceClassification.from_pretrained(electra_checkpoint , num_labels=4)\n",
    "data_collator = DataCollatorWithPadding(tokenizer=electra_tokenizer)\n",
    "\n",
    "output_directory = './models/Electra'\n",
    "\n",
    "training_args = TrainingArguments(\n",
    "    output_dir = output_directory,\n",
    "    per_device_train_batch_size=16,\n",
    "    per_device_eval_batch_size=16,\n",
    "    num_train_epochs=5,\n",
    "    learning_rate = 0.00002,\n",
    "    weight_decay=0.01,\n",
    "    eval_strategy = 'epoch',\n",
    "    report_to = []\n",
    "    )\n",
    "\n",
    "trainer = Trainer(\n",
    "    model,\n",
    "    training_args,\n",
    "    train_dataset = tokenized_dataset_dp_electra_op['train'],\n",
    "    eval_dataset = tokenized_dataset_dp_electra_op['validation'],\n",
    "    data_collator = data_collator,\n",
    "    processing_class = electra_tokenizer,\n",
    "    compute_metrics = compute_metrics\n",
    ")\n",
    "\n",
    "trainer.train()\n",
    "trainer.save_model(output_directory)"
   ]
  },
  {
   "cell_type": "markdown",
   "metadata": {},
   "source": [
    "## BERT"
   ]
  },
  {
   "cell_type": "code",
   "execution_count": 34,
   "metadata": {},
   "outputs": [
    {
     "name": "stderr",
     "output_type": "stream",
     "text": [
      "Some weights of BertForSequenceClassification were not initialized from the model checkpoint at bert-base-uncased and are newly initialized: ['classifier.bias', 'classifier.weight']\n",
      "You should probably TRAIN this model on a down-stream task to be able to use it for predictions and inference.\n"
     ]
    },
    {
     "data": {
      "text/html": [
       "\n",
       "    <div>\n",
       "      \n",
       "      <progress value='400' max='400' style='width:300px; height:20px; vertical-align: middle;'></progress>\n",
       "      [400/400 2:41:27, Epoch 5/5]\n",
       "    </div>\n",
       "    <table border=\"1\" class=\"dataframe\">\n",
       "  <thead>\n",
       " <tr style=\"text-align: left;\">\n",
       "      <th>Epoch</th>\n",
       "      <th>Training Loss</th>\n",
       "      <th>Validation Loss</th>\n",
       "      <th>Accuracy</th>\n",
       "      <th>F1</th>\n",
       "      <th>Precision</th>\n",
       "      <th>Recall</th>\n",
       "    </tr>\n",
       "  </thead>\n",
       "  <tbody>\n",
       "    <tr>\n",
       "      <td>1</td>\n",
       "      <td>No log</td>\n",
       "      <td>0.508655</td>\n",
       "      <td>0.837500</td>\n",
       "      <td>0.825383</td>\n",
       "      <td>0.829786</td>\n",
       "      <td>0.824290</td>\n",
       "    </tr>\n",
       "    <tr>\n",
       "      <td>2</td>\n",
       "      <td>No log</td>\n",
       "      <td>0.321941</td>\n",
       "      <td>0.881250</td>\n",
       "      <td>0.878673</td>\n",
       "      <td>0.880753</td>\n",
       "      <td>0.883807</td>\n",
       "    </tr>\n",
       "    <tr>\n",
       "      <td>3</td>\n",
       "      <td>No log</td>\n",
       "      <td>0.302181</td>\n",
       "      <td>0.881250</td>\n",
       "      <td>0.876130</td>\n",
       "      <td>0.876809</td>\n",
       "      <td>0.875852</td>\n",
       "    </tr>\n",
       "    <tr>\n",
       "      <td>4</td>\n",
       "      <td>No log</td>\n",
       "      <td>0.332754</td>\n",
       "      <td>0.887500</td>\n",
       "      <td>0.881540</td>\n",
       "      <td>0.885020</td>\n",
       "      <td>0.880966</td>\n",
       "    </tr>\n",
       "    <tr>\n",
       "      <td>5</td>\n",
       "      <td>No log</td>\n",
       "      <td>0.328577</td>\n",
       "      <td>0.881250</td>\n",
       "      <td>0.875523</td>\n",
       "      <td>0.877727</td>\n",
       "      <td>0.874290</td>\n",
       "    </tr>\n",
       "  </tbody>\n",
       "</table><p>"
      ],
      "text/plain": [
       "<IPython.core.display.HTML object>"
      ]
     },
     "metadata": {},
     "output_type": "display_data"
    }
   ],
   "source": [
    "from transformers import AutoModelForSequenceClassification, AutoTokenizer , Trainer, TrainingArguments\n",
    "\n",
    "model = AutoModelForSequenceClassification.from_pretrained(bert_checkpoint , num_labels=4)\n",
    "data_collator = DataCollatorWithPadding(tokenizer=bert_tokenizer)\n",
    "\n",
    "output_directory = './models/BERT'\n",
    "\n",
    "training_args = TrainingArguments(\n",
    "    output_dir = output_directory,\n",
    "    per_device_train_batch_size=16,\n",
    "    per_device_eval_batch_size=16,\n",
    "    num_train_epochs=5,\n",
    "    learning_rate = 0.00002,\n",
    "    weight_decay=0.01,\n",
    "    eval_strategy = 'epoch',\n",
    "    report_to = []\n",
    "    )\n",
    "\n",
    "trainer = Trainer(\n",
    "    model,\n",
    "    training_args,\n",
    "    train_dataset = tokenized_dataset_dp_bert_op['train'],\n",
    "    eval_dataset = tokenized_dataset_dp_bert_op['validation'],\n",
    "    data_collator = data_collator,\n",
    "    processing_class = bert_tokenizer,\n",
    "    compute_metrics = compute_metrics\n",
    ")\n",
    "\n",
    "trainer.train()\n",
    "trainer.save_model(output_directory)"
   ]
  },
  {
   "cell_type": "markdown",
   "metadata": {},
   "source": [
    "## DistilBERT"
   ]
  },
  {
   "cell_type": "code",
   "execution_count": 33,
   "metadata": {},
   "outputs": [
    {
     "name": "stderr",
     "output_type": "stream",
     "text": [
      "Some weights of DistilBertForSequenceClassification were not initialized from the model checkpoint at distilbert/distilbert-base-uncased and are newly initialized: ['classifier.bias', 'classifier.weight', 'pre_classifier.bias', 'pre_classifier.weight']\n",
      "You should probably TRAIN this model on a down-stream task to be able to use it for predictions and inference.\n"
     ]
    },
    {
     "data": {
      "text/html": [
       "\n",
       "    <div>\n",
       "      \n",
       "      <progress value='400' max='400' style='width:300px; height:20px; vertical-align: middle;'></progress>\n",
       "      [400/400 31:24, Epoch 5/5]\n",
       "    </div>\n",
       "    <table border=\"1\" class=\"dataframe\">\n",
       "  <thead>\n",
       " <tr style=\"text-align: left;\">\n",
       "      <th>Epoch</th>\n",
       "      <th>Training Loss</th>\n",
       "      <th>Validation Loss</th>\n",
       "      <th>Accuracy</th>\n",
       "      <th>F1</th>\n",
       "      <th>Precision</th>\n",
       "      <th>Recall</th>\n",
       "    </tr>\n",
       "  </thead>\n",
       "  <tbody>\n",
       "    <tr>\n",
       "      <td>1</td>\n",
       "      <td>No log</td>\n",
       "      <td>0.575929</td>\n",
       "      <td>0.856250</td>\n",
       "      <td>0.846187</td>\n",
       "      <td>0.852819</td>\n",
       "      <td>0.844034</td>\n",
       "    </tr>\n",
       "    <tr>\n",
       "      <td>2</td>\n",
       "      <td>No log</td>\n",
       "      <td>0.355498</td>\n",
       "      <td>0.887500</td>\n",
       "      <td>0.883422</td>\n",
       "      <td>0.884182</td>\n",
       "      <td>0.885227</td>\n",
       "    </tr>\n",
       "    <tr>\n",
       "      <td>3</td>\n",
       "      <td>No log</td>\n",
       "      <td>0.300006</td>\n",
       "      <td>0.900000</td>\n",
       "      <td>0.897029</td>\n",
       "      <td>0.896316</td>\n",
       "      <td>0.899858</td>\n",
       "    </tr>\n",
       "    <tr>\n",
       "      <td>4</td>\n",
       "      <td>No log</td>\n",
       "      <td>0.283626</td>\n",
       "      <td>0.900000</td>\n",
       "      <td>0.893974</td>\n",
       "      <td>0.902034</td>\n",
       "      <td>0.890767</td>\n",
       "    </tr>\n",
       "    <tr>\n",
       "      <td>5</td>\n",
       "      <td>No log</td>\n",
       "      <td>0.270121</td>\n",
       "      <td>0.906250</td>\n",
       "      <td>0.900761</td>\n",
       "      <td>0.903667</td>\n",
       "      <td>0.899148</td>\n",
       "    </tr>\n",
       "  </tbody>\n",
       "</table><p>"
      ],
      "text/plain": [
       "<IPython.core.display.HTML object>"
      ]
     },
     "metadata": {},
     "output_type": "display_data"
    }
   ],
   "source": [
    "from transformers import AutoModelForSequenceClassification, AutoTokenizer , Trainer, TrainingArguments\n",
    "\n",
    "model = AutoModelForSequenceClassification.from_pretrained(distilbert_checkpoint, num_labels=4)\n",
    "data_collator = DataCollatorWithPadding(tokenizer=distilbert_tokenizer)\n",
    "\n",
    "output_directory = './models/DistilBERT'\n",
    "\n",
    "training_args = TrainingArguments(\n",
    "    output_dir = output_directory,\n",
    "    per_device_train_batch_size=16,\n",
    "    per_device_eval_batch_size=16,\n",
    "    num_train_epochs=5,\n",
    "    learning_rate = 0.00002,\n",
    "    weight_decay=0.01,\n",
    "    eval_strategy = 'epoch',\n",
    "    report_to = []\n",
    "    )\n",
    "\n",
    "trainer = Trainer(\n",
    "    model,\n",
    "    training_args,\n",
    "    train_dataset = tokenized_dataset_dp_distilbert_op['train'],\n",
    "    eval_dataset = tokenized_dataset_dp_distilbert_op['validation'],\n",
    "    data_collator = data_collator,\n",
    "    processing_class = distilbert_tokenizer,\n",
    "    compute_metrics = compute_metrics\n",
    ")\n",
    "\n",
    "trainer.train()\n",
    "trainer.save_model(output_directory)"
   ]
  },
  {
   "cell_type": "markdown",
   "metadata": {},
   "source": [
    "## RoBERTa"
   ]
  },
  {
   "cell_type": "code",
   "execution_count": null,
   "metadata": {},
   "outputs": [
    {
     "name": "stderr",
     "output_type": "stream",
     "text": [
      "Some weights of RobertaForSequenceClassification were not initialized from the model checkpoint at FacebookAI/roberta-base and are newly initialized: ['classifier.dense.bias', 'classifier.dense.weight', 'classifier.out_proj.bias', 'classifier.out_proj.weight']\n",
      "You should probably TRAIN this model on a down-stream task to be able to use it for predictions and inference.\n",
      "d:\\Virtual Environments\\Thesis\\env\\Lib\\site-packages\\transformers\\training_args.py:1590: FutureWarning: using `no_cuda` is deprecated and will be removed in version 5.0 of 🤗 Transformers. Use `use_cpu` instead\n",
      "  warnings.warn(\n"
     ]
    },
    {
     "data": {
      "text/html": [
       "\n",
       "    <div>\n",
       "      \n",
       "      <progress value='400' max='400' style='width:300px; height:20px; vertical-align: middle;'></progress>\n",
       "      [400/400 1:59:26, Epoch 5/5]\n",
       "    </div>\n",
       "    <table border=\"1\" class=\"dataframe\">\n",
       "  <thead>\n",
       " <tr style=\"text-align: left;\">\n",
       "      <th>Epoch</th>\n",
       "      <th>Training Loss</th>\n",
       "      <th>Validation Loss</th>\n",
       "      <th>Accuracy</th>\n",
       "      <th>F1</th>\n",
       "      <th>Precision</th>\n",
       "      <th>Recall</th>\n",
       "    </tr>\n",
       "  </thead>\n",
       "  <tbody>\n",
       "    <tr>\n",
       "      <td>1</td>\n",
       "      <td>No log</td>\n",
       "      <td>0.310002</td>\n",
       "      <td>0.893750</td>\n",
       "      <td>0.887148</td>\n",
       "      <td>0.892503</td>\n",
       "      <td>0.886364</td>\n",
       "    </tr>\n",
       "    <tr>\n",
       "      <td>2</td>\n",
       "      <td>No log</td>\n",
       "      <td>0.274751</td>\n",
       "      <td>0.900000</td>\n",
       "      <td>0.897684</td>\n",
       "      <td>0.904654</td>\n",
       "      <td>0.906960</td>\n",
       "    </tr>\n",
       "    <tr>\n",
       "      <td>3</td>\n",
       "      <td>No log</td>\n",
       "      <td>0.225616</td>\n",
       "      <td>0.943750</td>\n",
       "      <td>0.941194</td>\n",
       "      <td>0.941540</td>\n",
       "      <td>0.941335</td>\n",
       "    </tr>\n",
       "    <tr>\n",
       "      <td>4</td>\n",
       "      <td>No log</td>\n",
       "      <td>0.284670</td>\n",
       "      <td>0.937500</td>\n",
       "      <td>0.933540</td>\n",
       "      <td>0.944171</td>\n",
       "      <td>0.928693</td>\n",
       "    </tr>\n",
       "    <tr>\n",
       "      <td>5</td>\n",
       "      <td>No log</td>\n",
       "      <td>0.256241</td>\n",
       "      <td>0.937500</td>\n",
       "      <td>0.934250</td>\n",
       "      <td>0.935417</td>\n",
       "      <td>0.933523</td>\n",
       "    </tr>\n",
       "  </tbody>\n",
       "</table><p>"
      ],
      "text/plain": [
       "<IPython.core.display.HTML object>"
      ]
     },
     "metadata": {},
     "output_type": "display_data"
    }
   ],
   "source": [
    "from transformers import AutoModelForSequenceClassification, AutoTokenizer , Trainer, TrainingArguments\n",
    "\n",
    "model = AutoModelForSequenceClassification.from_pretrained(roberta_checkpoint , num_labels=4)\n",
    "data_collator = DataCollatorWithPadding(tokenizer=roberta_tokenizer)\n",
    "\n",
    "output_directory = './models/RoBERTa'\n",
    "\n",
    "training_args = TrainingArguments(\n",
    "    output_dir = output_directory,\n",
    "    per_device_train_batch_size=16,\n",
    "    per_device_eval_batch_size=16,\n",
    "    num_train_epochs=5,\n",
    "    learning_rate = 0.00002,\n",
    "    weight_decay=0.01,\n",
    "    eval_strategy = 'epoch',\n",
    "    report_to = [],\n",
    "    )\n",
    "\n",
    "trainer = Trainer(\n",
    "    model,\n",
    "    training_args,\n",
    "    train_dataset = tokenized_dataset_dp_roberta_op['train'],\n",
    "    eval_dataset = tokenized_dataset_dp_roberta_op['validation'],\n",
    "    data_collator = data_collator,\n",
    "    processing_class = roberta_tokenizer,\n",
    "    compute_metrics = compute_metrics\n",
    ")\n",
    "trainer.train()\n",
    "trainer.save_model(output_directory)"
   ]
  },
  {
   "cell_type": "markdown",
   "metadata": {},
   "source": [
    "# Base Learner Predictions"
   ]
  },
  {
   "cell_type": "markdown",
   "metadata": {},
   "source": [
    "## Loading Models"
   ]
  },
  {
   "cell_type": "code",
   "execution_count": 7,
   "metadata": {},
   "outputs": [],
   "source": [
    "from transformers import AutoModelForSequenceClassification, AutoTokenizer\n",
    "\n",
    "electra = AutoModelForSequenceClassification.from_pretrained('./models/Electra')\n",
    "electra_tokenizer = AutoTokenizer.from_pretrained('./models/Electra')\n",
    "\n",
    "bert = AutoModelForSequenceClassification.from_pretrained('./models/BERT')\n",
    "bert_tokenizer = AutoTokenizer.from_pretrained('./models/Electra')\n",
    "\n",
    "distilbert = AutoModelForSequenceClassification.from_pretrained('./models/DistilBERT')\n",
    "distilbert_tokenizer = AutoTokenizer.from_pretrained('./models/Electra')"
   ]
  },
  {
   "cell_type": "markdown",
   "metadata": {},
   "source": [
    "## Getting Predictions"
   ]
  },
  {
   "cell_type": "code",
   "execution_count": 41,
   "metadata": {},
   "outputs": [
    {
     "data": {
      "text/html": [],
      "text/plain": [
       "<IPython.core.display.HTML object>"
      ]
     },
     "metadata": {},
     "output_type": "display_data"
    },
    {
     "data": {
      "text/html": [],
      "text/plain": [
       "<IPython.core.display.HTML object>"
      ]
     },
     "metadata": {},
     "output_type": "display_data"
    },
    {
     "data": {
      "text/html": [],
      "text/plain": [
       "<IPython.core.display.HTML object>"
      ]
     },
     "metadata": {},
     "output_type": "display_data"
    }
   ],
   "source": [
    "from transformers import Trainer, TrainingArguments\n",
    "from datasets import concatenate_datasets\n",
    "\n",
    "training_args = TrainingArguments(\n",
    "    output_dir = './predictions',\n",
    "    per_device_train_batch_size=16,\n",
    "    per_device_eval_batch_size=16,\n",
    ")\n",
    "\n",
    "electra_trainer = Trainer(\n",
    "    electra,\n",
    "    training_args,\n",
    "    processing_class = electra_tokenizer\n",
    ")\n",
    "\n",
    "bert_trainer = Trainer(\n",
    "    bert,\n",
    "    training_args,\n",
    "    processing_class = bert_tokenizer\n",
    ")\n",
    "\n",
    "distilbert_trainer = Trainer(\n",
    "    distilbert,\n",
    "    training_args,\n",
    "    processing_class = distilbert_tokenizer\n",
    ")\n",
    "\n",
    "tokenized_dataset_dp_electra_op_combined = concatenate_datasets([tokenized_dataset_dp_electra_op['test'] , tokenized_dataset_dp_electra_op['validation']])\n",
    "tokenized_dataset_dp_bert_op_combined = concatenate_datasets([tokenized_dataset_dp_bert_op['test'] , tokenized_dataset_dp_bert_op['validation']])\n",
    "tokenized_dataset_dp_distilbert_op_combined = concatenate_datasets([tokenized_dataset_dp_distilbert_op['test'] , tokenized_dataset_dp_distilbert_op['validation']])\n",
    "\n",
    "\n",
    "electra_outputs = electra_trainer.predict(tokenized_dataset_dp_electra_op_combined)\n",
    "bert_outputs = bert_trainer.predict(tokenized_dataset_dp_bert_op_combined)\n",
    "distilbert_outputs = distilbert_trainer.predict(tokenized_dataset_dp_distilbert_op_combined)"
   ]
  },
  {
   "cell_type": "code",
   "execution_count": 15,
   "metadata": {},
   "outputs": [
    {
     "data": {
      "text/plain": [
       "array([[-0.66308486, -1.43721   ,  3.0861626 , -0.8970183 ],\n",
       "       [-0.7137503 , -1.4687352 ,  3.080502  , -0.89906025],\n",
       "       [ 3.1207328 , -0.94269246, -0.48463607, -1.6172389 ],\n",
       "       [ 3.106535  , -0.8019607 , -0.6701002 , -1.5754206 ],\n",
       "       [-0.01979489,  2.5679324 , -1.5783356 , -0.8314981 ],\n",
       "       [-0.36806595, -1.531097  ,  3.0728288 , -1.1968529 ],\n",
       "       [ 3.0462546 , -1.017493  , -0.3505312 , -1.6441224 ],\n",
       "       [ 3.0673099 , -0.9944266 , -0.39594027, -1.5871654 ],\n",
       "       [ 3.0775893 , -0.661633  , -0.8383566 , -1.3635106 ],\n",
       "       [-0.56425625, -1.4854238 ,  3.0989633 , -1.0565637 ],\n",
       "       [-1.2565767 ,  2.9103448 , -1.7768347 ,  0.12567131],\n",
       "       [-0.736255  , -1.517362  ,  3.0635262 , -0.7803748 ],\n",
       "       [-1.3402449 ,  2.6991227 , -1.7931138 ,  0.48812518],\n",
       "       [-1.6206127 , -0.37629747, -0.9533299 ,  2.9962473 ],\n",
       "       [-0.99873054,  2.893582  , -1.5580086 , -0.30675617],\n",
       "       [-0.74591523, -1.4871135 ,  3.10499   , -0.9079613 ],\n",
       "       [-0.61494565, -1.4974213 ,  3.131253  , -0.9917117 ],\n",
       "       [ 0.6582202 , -1.7168607 ,  2.719654  , -1.7628732 ],\n",
       "       [-1.6506944 , -0.5184017 , -0.7561615 ,  2.958601  ],\n",
       "       [-0.02030522, -1.6064365 ,  3.045327  , -1.4672086 ],\n",
       "       [ 3.1317136 , -1.0726742 , -0.28158876, -1.7181396 ],\n",
       "       [ 3.127609  , -0.74003637, -0.7791735 , -1.4537553 ],\n",
       "       [-1.5305473 , -0.28970474, -1.0792159 ,  2.9676268 ],\n",
       "       [-1.6312017 , -0.48662597, -0.946289  ,  3.0604358 ],\n",
       "       [-1.1094013 ,  2.8831778 , -1.4882277 , -0.2505998 ],\n",
       "       [-1.5821104 ,  2.6736262 , -1.7765614 ,  0.6392065 ],\n",
       "       [-1.761256  ,  0.7288821 , -1.6907524 ,  2.7808647 ],\n",
       "       [-1.5399758 , -0.50013256, -0.8351445 ,  2.9655106 ],\n",
       "       [-1.5947359 , -0.64733666, -0.59043515,  2.8849475 ],\n",
       "       [-0.970228  ,  2.9301708 , -1.5682381 , -0.26894805],\n",
       "       [-1.3105539 ,  2.9154134 , -1.8322142 ,  0.24142437],\n",
       "       [-0.34506965,  2.7590833 , -1.5980579 , -0.66067547],\n",
       "       [ 1.8327465 , -1.6315123 ,  1.6933315 , -1.9711816 ],\n",
       "       [-1.5122447 , -0.5390127 , -0.5407932 ,  2.78335   ],\n",
       "       [-0.71472245, -1.4823849 ,  3.111293  , -0.8718277 ],\n",
       "       [-1.8486792 ,  0.90119773, -1.6847177 ,  2.5754604 ],\n",
       "       [-0.6858877 , -1.468163  ,  3.0947926 , -0.9559349 ],\n",
       "       [-1.8415158 ,  0.33230454, -1.5327096 ,  2.9904294 ],\n",
       "       [ 3.0317123 , -0.55684966, -0.86007464, -1.4376311 ],\n",
       "       [ 3.0989532 , -1.0022484 , -0.365951  , -1.6844102 ],\n",
       "       [-1.1061249 ,  2.8967903 , -1.6263458 , -0.12567867],\n",
       "       [-0.7465766 , -1.4673482 ,  3.0656052 , -0.79522216],\n",
       "       [-1.557682  , -0.57412153, -0.7820861 ,  2.9765837 ],\n",
       "       [ 2.9404964 , -1.2048854 ,  0.05868999, -1.8101041 ],\n",
       "       [-0.19681281, -1.5404764 ,  3.0780718 , -1.3250962 ],\n",
       "       [-1.5414236 , -0.9468428 ,  0.67402726,  1.8756162 ],\n",
       "       [-0.7752435 , -1.4623635 ,  3.0900645 , -0.80421245],\n",
       "       [-1.1779335 ,  2.8932922 , -1.6593245 , -0.02305434],\n",
       "       [-0.7183733 , -1.4518098 ,  3.0587838 , -0.8801184 ],\n",
       "       [-1.677352  ,  0.14759682, -1.3718641 ,  3.0035853 ],\n",
       "       [ 3.105773  , -0.8888265 , -0.49772823, -1.6211715 ],\n",
       "       [ 3.108436  , -0.892832  , -0.49957258, -1.670018  ],\n",
       "       [-1.5626149 , -0.64781433, -0.5980208 ,  2.854304  ],\n",
       "       [-1.5572141 , -0.5779451 , -0.74623966,  2.9794948 ],\n",
       "       [-0.7628641 , -1.4751272 ,  3.0803962 , -0.8673445 ],\n",
       "       [-0.60011023, -1.5128927 ,  3.0653858 , -0.98447776],\n",
       "       [-1.3018888 ,  2.913157  , -1.6563244 ,  0.02548806],\n",
       "       [-1.7845092 , -0.03596458, -1.288924  ,  3.066206  ],\n",
       "       [-1.7860272 ,  0.15980048, -1.2945813 ,  2.8921227 ],\n",
       "       [-1.5797781 , -0.4992771 , -0.7747405 ,  2.9170415 ],\n",
       "       [ 3.1314266 , -0.8318406 , -0.6213242 , -1.5765071 ],\n",
       "       [-1.3512934 ,  2.9146762 , -1.7555547 ,  0.18183522],\n",
       "       [-1.622482  , -0.48976636, -0.8100876 ,  3.0039787 ],\n",
       "       [-0.7792224 ,  2.858025  , -1.473405  , -0.513801  ],\n",
       "       [-0.78592587, -1.4463733 ,  3.0246117 , -0.77725494],\n",
       "       [-1.6464734 , -0.63672256, -0.6007596 ,  2.9165196 ],\n",
       "       [-0.8750959 ,  2.9336586 , -1.602462  , -0.3941936 ],\n",
       "       [-1.564679  , -0.5697174 , -0.7921829 ,  2.9458528 ],\n",
       "       [-0.7488523 , -1.4745793 ,  3.1234589 , -0.8879869 ],\n",
       "       [-0.26435035,  2.6239998 , -1.5009756 , -0.6861383 ],\n",
       "       [-1.8319402 ,  0.96958613, -1.8077551 ,  2.6095226 ],\n",
       "       [-1.5401042 , -0.5049017 , -0.87103117,  3.0026977 ],\n",
       "       [-1.8439713 ,  0.43379533, -1.5489011 ,  2.92665   ],\n",
       "       [ 3.0861552 , -0.80494994, -0.64883214, -1.467619  ],\n",
       "       [ 2.9825747 , -1.1400515 , -0.07208203, -1.7449541 ],\n",
       "       [ 3.0216444 , -0.53391004, -0.9357946 , -1.380192  ],\n",
       "       [-0.29104224, -1.5237929 ,  3.124285  , -1.2510773 ],\n",
       "       [ 2.919812  , -0.93951344, -0.398578  , -1.5260428 ],\n",
       "       [ 3.143828  , -0.855824  , -0.62254566, -1.5424502 ],\n",
       "       [-0.5487555 ,  2.8110251 , -1.4875153 , -0.62269664],\n",
       "       [-0.73484635, -1.4908167 ,  3.0680552 , -0.9193924 ],\n",
       "       [-0.5540992 ,  2.7974355 , -1.7823935 , -0.41393647],\n",
       "       [-0.8806623 ,  2.8300054 , -1.4282701 , -0.45896137],\n",
       "       [-1.6965659 , -0.30718318, -1.0772945 ,  3.0915322 ],\n",
       "       [-0.8452869 , -1.465099  ,  3.038038  , -0.73127323],\n",
       "       [-1.6839594 , -0.2578221 , -1.1209831 ,  3.077415  ],\n",
       "       [ 0.8488635 , -1.6420945 ,  2.5082462 , -1.842471  ],\n",
       "       [ 3.0201488 , -0.600891  , -0.80791336, -1.4465853 ],\n",
       "       [-0.18491426,  2.6515625 , -1.5798396 , -0.7021252 ],\n",
       "       [-0.69917977, -1.4710557 ,  3.123713  , -0.9497814 ],\n",
       "       [-1.7663585 ,  2.0744581 , -2.053546  ,  1.7428752 ],\n",
       "       [-0.63940036, -1.5002395 ,  3.1086023 , -0.93361044],\n",
       "       [ 3.1015902 , -0.8422713 , -0.57875973, -1.5652676 ],\n",
       "       [-1.7982253 ,  2.0096145 , -1.9252166 ,  1.6165953 ],\n",
       "       [-1.6464605 , -0.5794336 , -0.62517357,  2.9280367 ],\n",
       "       [-1.6994835 , -0.26676577, -1.1184157 ,  3.094099  ],\n",
       "       [ 0.26176345, -1.6648003 ,  2.9438558 , -1.6302546 ],\n",
       "       [-0.8313133 , -1.397788  ,  2.9764438 , -0.6608137 ],\n",
       "       [ 3.1115098 , -0.8395498 , -0.61989915, -1.5153652 ],\n",
       "       [-0.88781977, -1.443358  ,  2.9697545 , -0.66512674],\n",
       "       [ 1.2694229 ,  1.5187097 , -1.640847  , -0.9399618 ],\n",
       "       [-0.44065207,  2.7722876 , -1.7423588 , -0.45011926],\n",
       "       [-1.733759  ,  1.0174505 , -1.8723252 ,  2.5943239 ],\n",
       "       [-0.81927425, -1.4156392 ,  3.031506  , -0.7444524 ],\n",
       "       [-0.974999  ,  2.8912427 , -1.5162874 , -0.3538836 ],\n",
       "       [-0.72435606, -1.5040203 ,  3.0647824 , -0.83214486],\n",
       "       [-0.74503785, -1.4507563 ,  3.0169683 , -0.79027575],\n",
       "       [ 1.3296212 , -1.7560966 ,  2.2087765 , -1.974174  ],\n",
       "       [-0.57982886, -1.4813753 ,  3.1454244 , -1.0723742 ],\n",
       "       [-1.6485779 , -0.04746833, -1.1642184 ,  2.9465857 ],\n",
       "       [-1.5621169 ,  2.553143  , -1.9934282 ,  1.0424405 ],\n",
       "       [-0.85739607, -1.4459735 ,  3.007741  , -0.6841866 ],\n",
       "       [-1.5748363 , -0.4701982 , -0.8721869 ,  3.0293417 ],\n",
       "       [-0.8975969 ,  2.8491561 , -1.3878849 , -0.49196327],\n",
       "       [ 2.13348   , -1.601876  ,  1.4198543 , -2.004967  ],\n",
       "       [ 3.123356  , -0.77424604, -0.66398335, -1.4671541 ],\n",
       "       [-1.5153167 , -0.6443928 , -0.56240284,  2.8313744 ],\n",
       "       [-0.5487555 ,  2.8110251 , -1.4875153 , -0.62269664],\n",
       "       [-1.5283073 ,  2.6691165 , -1.9115806 ,  0.7226765 ],\n",
       "       [-1.6844556 , -0.29970947, -1.0989676 ,  3.091437  ],\n",
       "       [-0.77612656, -1.4695883 ,  3.0821834 , -0.8377245 ],\n",
       "       [-0.8166471 , -1.2952409 ,  2.5059752 , -0.37435776],\n",
       "       [ 3.147622  , -0.8838458 , -0.59888375, -1.5477209 ],\n",
       "       [-1.6067233 , -0.4945107 , -0.8924997 ,  3.053425  ],\n",
       "       [-1.605737  , -0.55232805, -0.7712858 ,  2.9565544 ],\n",
       "       [ 3.0365982 , -1.1695582 , -0.11476099, -1.7968799 ],\n",
       "       [-1.5616556 ,  2.646408  , -1.929015  ,  0.8080006 ],\n",
       "       [ 3.0408201 , -1.042942  , -0.29205233, -1.6589401 ],\n",
       "       [ 0.8867372 , -1.7413026 ,  2.6020093 , -1.9019042 ],\n",
       "       [-1.6296006 , -0.49196076, -0.8899075 ,  3.043964  ],\n",
       "       [-0.6985618 , -1.489525  ,  3.1205282 , -0.886296  ],\n",
       "       [-1.6050571 , -0.60522234, -0.54466337,  2.8190887 ],\n",
       "       [ 1.5437574 , -1.6842413 ,  1.9891324 , -1.9657001 ],\n",
       "       [-1.5022014 ,  2.7140455 , -1.806076  ,  0.5167547 ],\n",
       "       [-1.5762379 ,  2.273277  , -2.0728128 ,  1.3952501 ],\n",
       "       [ 2.7488925 , -1.3627405 ,  0.4743909 , -1.9153987 ],\n",
       "       [-1.5565724 , -0.46926457, -0.93354374,  2.9985464 ],\n",
       "       [-1.7327741 , -0.42795762, -0.931929  ,  3.0206618 ],\n",
       "       [ 3.0961728 , -0.7122564 , -0.7715243 , -1.4307984 ],\n",
       "       [ 3.0730717 , -1.0268172 , -0.2536459 , -1.7640078 ],\n",
       "       [-0.27521318, -1.5738766 ,  3.1339014 , -1.2741702 ],\n",
       "       [ 1.8795136 , -1.676826  ,  1.7154092 , -2.0563827 ],\n",
       "       [-0.57765055, -1.4722477 ,  3.1358387 , -1.0039047 ],\n",
       "       [-1.8632206 ,  1.2194166 , -1.8445892 ,  2.3814712 ],\n",
       "       [-1.2741811 ,  2.913705  , -1.6948329 ,  0.10936556],\n",
       "       [-1.4609952 , -0.76986796,  0.20704152,  1.9500203 ],\n",
       "       [ 2.9344866 , -0.95512664, -0.28603008, -1.6262689 ],\n",
       "       [-1.6115183 , -0.38591886, -0.9976635 ,  3.0633528 ],\n",
       "       [-1.6373501 , -0.62098235, -0.487783  ,  2.8172987 ],\n",
       "       [-0.85531354, -1.4677742 ,  3.002081  , -0.6451863 ],\n",
       "       [-1.2529784 ,  2.9236135 , -1.6035242 , -0.07465941],\n",
       "       [-1.6209977 , -0.5110872 , -0.7886088 ,  2.9761646 ],\n",
       "       [-1.5647227 ,  2.5796368 , -1.8391345 ,  0.8403168 ],\n",
       "       [-1.7643353 , -0.13856636, -1.221749  ,  3.1085396 ],\n",
       "       [-1.5195568 ,  2.8127832 , -1.8495814 ,  0.5451168 ],\n",
       "       [-0.66552246,  2.890177  , -1.5885669 , -0.51014173],\n",
       "       [-1.9257071 ,  0.9622654 , -1.6527933 ,  2.5974314 ],\n",
       "       [ 3.1202426 , -0.84481454, -0.6560406 , -1.5075054 ],\n",
       "       [-1.5879861 , -0.49449468, -0.80752087,  2.9835155 ],\n",
       "       [-1.8044419 ,  1.3930626 , -1.9544992 ,  2.3286576 ]],\n",
       "      dtype=float32)"
      ]
     },
     "execution_count": 15,
     "metadata": {},
     "output_type": "execute_result"
    }
   ],
   "source": [
    "electra_outputs.predictions"
   ]
  },
  {
   "cell_type": "markdown",
   "metadata": {},
   "source": [
    "## Making Combined Dataframe For Input to Meta Model"
   ]
  },
  {
   "cell_type": "code",
   "execution_count": 44,
   "metadata": {},
   "outputs": [
    {
     "data": {
      "text/html": [
       "<div>\n",
       "<style scoped>\n",
       "    .dataframe tbody tr th:only-of-type {\n",
       "        vertical-align: middle;\n",
       "    }\n",
       "\n",
       "    .dataframe tbody tr th {\n",
       "        vertical-align: top;\n",
       "    }\n",
       "\n",
       "    .dataframe thead th {\n",
       "        text-align: right;\n",
       "    }\n",
       "</style>\n",
       "<table border=\"1\" class=\"dataframe\">\n",
       "  <thead>\n",
       "    <tr style=\"text-align: right;\">\n",
       "      <th></th>\n",
       "      <th>electra_0</th>\n",
       "      <th>electra_1</th>\n",
       "      <th>electra_2</th>\n",
       "      <th>electra_3</th>\n",
       "      <th>bert_0</th>\n",
       "      <th>bert_1</th>\n",
       "      <th>bert_2</th>\n",
       "      <th>bert_3</th>\n",
       "      <th>distilbert_0</th>\n",
       "      <th>distilbert_1</th>\n",
       "      <th>distilbert_2</th>\n",
       "      <th>distilbert_3</th>\n",
       "      <th>label</th>\n",
       "    </tr>\n",
       "  </thead>\n",
       "  <tbody>\n",
       "    <tr>\n",
       "      <th>0</th>\n",
       "      <td>0.022351</td>\n",
       "      <td>0.010306</td>\n",
       "      <td>0.949655</td>\n",
       "      <td>0.017689</td>\n",
       "      <td>0.007171</td>\n",
       "      <td>0.002790</td>\n",
       "      <td>0.979695</td>\n",
       "      <td>0.010344</td>\n",
       "      <td>0.017188</td>\n",
       "      <td>0.006783</td>\n",
       "      <td>0.964071</td>\n",
       "      <td>0.011957</td>\n",
       "      <td>2</td>\n",
       "    </tr>\n",
       "    <tr>\n",
       "      <th>1</th>\n",
       "      <td>0.021392</td>\n",
       "      <td>0.010055</td>\n",
       "      <td>0.950779</td>\n",
       "      <td>0.017774</td>\n",
       "      <td>0.006442</td>\n",
       "      <td>0.002603</td>\n",
       "      <td>0.984753</td>\n",
       "      <td>0.006202</td>\n",
       "      <td>0.018267</td>\n",
       "      <td>0.005162</td>\n",
       "      <td>0.966914</td>\n",
       "      <td>0.009657</td>\n",
       "      <td>2</td>\n",
       "    </tr>\n",
       "    <tr>\n",
       "      <th>2</th>\n",
       "      <td>0.949556</td>\n",
       "      <td>0.016323</td>\n",
       "      <td>0.025806</td>\n",
       "      <td>0.008315</td>\n",
       "      <td>0.983233</td>\n",
       "      <td>0.004432</td>\n",
       "      <td>0.010557</td>\n",
       "      <td>0.001778</td>\n",
       "      <td>0.967923</td>\n",
       "      <td>0.012887</td>\n",
       "      <td>0.015805</td>\n",
       "      <td>0.003385</td>\n",
       "      <td>0</td>\n",
       "    </tr>\n",
       "    <tr>\n",
       "      <th>3</th>\n",
       "      <td>0.950361</td>\n",
       "      <td>0.019074</td>\n",
       "      <td>0.021763</td>\n",
       "      <td>0.008801</td>\n",
       "      <td>0.985473</td>\n",
       "      <td>0.004766</td>\n",
       "      <td>0.007571</td>\n",
       "      <td>0.002190</td>\n",
       "      <td>0.964231</td>\n",
       "      <td>0.010292</td>\n",
       "      <td>0.021584</td>\n",
       "      <td>0.003893</td>\n",
       "      <td>0</td>\n",
       "    </tr>\n",
       "    <tr>\n",
       "      <th>4</th>\n",
       "      <td>0.066871</td>\n",
       "      <td>0.889358</td>\n",
       "      <td>0.014073</td>\n",
       "      <td>0.029698</td>\n",
       "      <td>0.020030</td>\n",
       "      <td>0.958933</td>\n",
       "      <td>0.005812</td>\n",
       "      <td>0.015225</td>\n",
       "      <td>0.461232</td>\n",
       "      <td>0.515698</td>\n",
       "      <td>0.010906</td>\n",
       "      <td>0.012164</td>\n",
       "      <td>1</td>\n",
       "    </tr>\n",
       "  </tbody>\n",
       "</table>\n",
       "</div>"
      ],
      "text/plain": [
       "   electra_0  electra_1  electra_2  electra_3    bert_0    bert_1    bert_2  \\\n",
       "0   0.022351   0.010306   0.949655   0.017689  0.007171  0.002790  0.979695   \n",
       "1   0.021392   0.010055   0.950779   0.017774  0.006442  0.002603  0.984753   \n",
       "2   0.949556   0.016323   0.025806   0.008315  0.983233  0.004432  0.010557   \n",
       "3   0.950361   0.019074   0.021763   0.008801  0.985473  0.004766  0.007571   \n",
       "4   0.066871   0.889358   0.014073   0.029698  0.020030  0.958933  0.005812   \n",
       "\n",
       "     bert_3  distilbert_0  distilbert_1  distilbert_2  distilbert_3  label  \n",
       "0  0.010344      0.017188      0.006783      0.964071      0.011957      2  \n",
       "1  0.006202      0.018267      0.005162      0.966914      0.009657      2  \n",
       "2  0.001778      0.967923      0.012887      0.015805      0.003385      0  \n",
       "3  0.002190      0.964231      0.010292      0.021584      0.003893      0  \n",
       "4  0.015225      0.461232      0.515698      0.010906      0.012164      1  "
      ]
     },
     "execution_count": 44,
     "metadata": {},
     "output_type": "execute_result"
    }
   ],
   "source": [
    "import torch\n",
    "import pandas as pd\n",
    "from torch import tensor\n",
    "electra_predictions = torch.nn.functional.softmax(tensor(electra_outputs.predictions), dim=-1)\n",
    "bert_predictions = torch.nn.functional.softmax(tensor(bert_outputs.predictions), dim=-1)\n",
    "distilbert_predictions = torch.nn.functional.softmax(tensor(distilbert_outputs.predictions), dim=-1)\n",
    "\n",
    "electra_predictions_0 = [item[0].item() for item in electra_predictions]\n",
    "electra_predictions_1 = [item[1].item() for item in electra_predictions]\n",
    "electra_predictions_2 = [item[2].item() for item in electra_predictions]\n",
    "electra_predictions_3 = [item[3].item() for item in electra_predictions]\n",
    "\n",
    "bert_predictions_0 = [item[0].item() for item in bert_predictions]\n",
    "bert_predictions_1 = [item[1].item() for item in bert_predictions]\n",
    "bert_predictions_2 = [item[2].item() for item in bert_predictions]\n",
    "bert_predictions_3 = [item[3].item() for item in bert_predictions]\n",
    "\n",
    "distilbert_predictions_0 = [item[0].item() for item in distilbert_predictions]\n",
    "distilbert_predictions_1 = [item[1].item() for item in distilbert_predictions]\n",
    "distilbert_predictions_2 = [item[2].item() for item in distilbert_predictions]\n",
    "distilbert_predictions_3 = [item[3].item() for item in distilbert_predictions]\n",
    "\n",
    "\n",
    "\n",
    "combined_dataframe = pd.DataFrame({\n",
    "    'electra_0': electra_predictions_0,\n",
    "    'electra_1' : electra_predictions_1,\n",
    "    'electra_2' : electra_predictions_2,\n",
    "    'electra_3' : electra_predictions_3,\n",
    "    'bert_0' : bert_predictions_0,\n",
    "    'bert_1' : bert_predictions_1,\n",
    "    'bert_2' : bert_predictions_2,\n",
    "    'bert_3' : bert_predictions_3,\n",
    "    'distilbert_0' : distilbert_predictions_0,\n",
    "    'distilbert_1' : distilbert_predictions_1,\n",
    "    'distilbert_2' : distilbert_predictions_2,\n",
    "    'distilbert_3' : distilbert_predictions_3,\n",
    "    'label' : op_dataset['test']['label'] + op_dataset['validation']['label']\n",
    "})\n",
    "combined_dataframe.head()"
   ]
  },
  {
   "cell_type": "code",
   "execution_count": 45,
   "metadata": {},
   "outputs": [
    {
     "data": {
      "text/plain": [
       "320"
      ]
     },
     "execution_count": 45,
     "metadata": {},
     "output_type": "execute_result"
    }
   ],
   "source": [
    "len(combined_dataframe)"
   ]
  },
  {
   "cell_type": "markdown",
   "metadata": {},
   "source": [
    "# Meta Model"
   ]
  },
  {
   "cell_type": "code",
   "execution_count": 24,
   "metadata": {},
   "outputs": [],
   "source": [
    "import torch\n",
    "import torch.nn as nn\n",
    "\n",
    "class MLP(nn.Module):\n",
    "    def __init__(self , input_dim , num_labels):\n",
    "        super().__init__()\n",
    "        self.classifier = nn.Sequential(\n",
    "            nn.Linear(input_dim , 64),\n",
    "            nn.ReLU(),\n",
    "            nn.Linear(64, num_labels)\n",
    "        )\n",
    "\n",
    "    def forward(self, input_ids=None , labels=None , **kwargs):\n",
    "        logits = self.classifier(input_ids.float())\n",
    "\n",
    "        loss = None\n",
    "        if labels is not None:\n",
    "            loss_fct = nn.CrossEntropyLoss()\n",
    "            loss = loss_fct(logits, labels.long())\n",
    "\n",
    "        return {\"loss\" : loss , \"logits\" : logits}\n",
    "    \n"
   ]
  },
  {
   "cell_type": "code",
   "execution_count": 25,
   "metadata": {},
   "outputs": [],
   "source": [
    "def df_to_hf_dataset(df, feature_cols, label_col):\n",
    "    ds = Dataset.from_dict({\n",
    "        col: df[col].tolist() for col in feature_cols + [label_col]\n",
    "    })\n",
    "    ds = ds.rename_column(label_col, \"labels\")  # HF expects a 'labels' column\n",
    "    return ds\n",
    "\n",
    "feature_cols = ['electra_0', 'electra_1', 'electra_2', 'electra_3', 'bert_0', 'bert_1', 'bert_2', 'bert_3', 'distilbert_0', 'distilbert_1', 'distilbert_2','distilbert_3']\n",
    "label_col = 'label'\n",
    "combined_dataset = df_to_hf_dataset(combined_dataframe, feature_cols, label_col)"
   ]
  },
  {
   "cell_type": "code",
   "execution_count": 26,
   "metadata": {},
   "outputs": [
    {
     "data": {
      "text/plain": [
       "DatasetDict({\n",
       "    train: Dataset({\n",
       "        features: ['electra_0', 'electra_1', 'electra_2', 'electra_3', 'bert_0', 'bert_1', 'bert_2', 'bert_3', 'distilbert_0', 'distilbert_1', 'distilbert_2', 'distilbert_3', 'labels'],\n",
       "        num_rows: 128\n",
       "    })\n",
       "    test: Dataset({\n",
       "        features: ['electra_0', 'electra_1', 'electra_2', 'electra_3', 'bert_0', 'bert_1', 'bert_2', 'bert_3', 'distilbert_0', 'distilbert_1', 'distilbert_2', 'distilbert_3', 'labels'],\n",
       "        num_rows: 32\n",
       "    })\n",
       "})"
      ]
     },
     "execution_count": 26,
     "metadata": {},
     "output_type": "execute_result"
    }
   ],
   "source": [
    "combined_dataset = combined_dataset.train_test_split(test_size=0.2, seed=42)\n",
    "combined_dataset"
   ]
  },
  {
   "cell_type": "code",
   "execution_count": 27,
   "metadata": {},
   "outputs": [],
   "source": [
    "def collate_fn(batch):\n",
    "    # Convert each example into PyTorch tensors\n",
    "    input_ids = torch.tensor([ [ex[col] for col in feature_cols] for ex in batch ])\n",
    "    labels = torch.tensor([ex[\"labels\"] for ex in batch])\n",
    "    return {\"input_ids\": input_ids, \"labels\": labels}\n"
   ]
  },
  {
   "cell_type": "markdown",
   "metadata": {},
   "source": [
    "## Training Meta model"
   ]
  },
  {
   "cell_type": "code",
   "execution_count": 34,
   "metadata": {},
   "outputs": [
    {
     "ename": "KeyError",
     "evalue": "'electra_0'",
     "output_type": "error",
     "traceback": [
      "\u001b[1;31m---------------------------------------------------------------------------\u001b[0m",
      "\u001b[1;31mKeyError\u001b[0m                                  Traceback (most recent call last)",
      "Cell \u001b[1;32mIn[34], line 26\u001b[0m\n\u001b[0;32m      6\u001b[0m training_args \u001b[38;5;241m=\u001b[39m TrainingArguments(\n\u001b[0;32m      7\u001b[0m     output_dir \u001b[38;5;241m=\u001b[39m output_dir,\n\u001b[0;32m      8\u001b[0m     per_device_train_batch_size\u001b[38;5;241m=\u001b[39m\u001b[38;5;241m16\u001b[39m,\n\u001b[1;32m   (...)\u001b[0m\n\u001b[0;32m     14\u001b[0m     report_to \u001b[38;5;241m=\u001b[39m []\n\u001b[0;32m     15\u001b[0m )\n\u001b[0;32m     17\u001b[0m trainer \u001b[38;5;241m=\u001b[39m Trainer(\n\u001b[0;32m     18\u001b[0m     model\u001b[38;5;241m=\u001b[39mmodel,\n\u001b[0;32m     19\u001b[0m     args\u001b[38;5;241m=\u001b[39mtraining_args,\n\u001b[1;32m   (...)\u001b[0m\n\u001b[0;32m     23\u001b[0m     compute_metrics\u001b[38;5;241m=\u001b[39mcompute_metrics\n\u001b[0;32m     24\u001b[0m )\n\u001b[1;32m---> 26\u001b[0m \u001b[43mtrainer\u001b[49m\u001b[38;5;241;43m.\u001b[39;49m\u001b[43mtrain\u001b[49m\u001b[43m(\u001b[49m\u001b[43m)\u001b[49m\n\u001b[0;32m     27\u001b[0m trainer\u001b[38;5;241m.\u001b[39mevaluate()\n",
      "File \u001b[1;32md:\\Virtual Environments\\Thesis\\env\\Lib\\site-packages\\transformers\\trainer.py:2171\u001b[0m, in \u001b[0;36mTrainer.train\u001b[1;34m(self, resume_from_checkpoint, trial, ignore_keys_for_eval, **kwargs)\u001b[0m\n\u001b[0;32m   2169\u001b[0m         hf_hub_utils\u001b[38;5;241m.\u001b[39menable_progress_bars()\n\u001b[0;32m   2170\u001b[0m \u001b[38;5;28;01melse\u001b[39;00m:\n\u001b[1;32m-> 2171\u001b[0m     \u001b[38;5;28;01mreturn\u001b[39;00m \u001b[43minner_training_loop\u001b[49m\u001b[43m(\u001b[49m\n\u001b[0;32m   2172\u001b[0m \u001b[43m        \u001b[49m\u001b[43margs\u001b[49m\u001b[38;5;241;43m=\u001b[39;49m\u001b[43margs\u001b[49m\u001b[43m,\u001b[49m\n\u001b[0;32m   2173\u001b[0m \u001b[43m        \u001b[49m\u001b[43mresume_from_checkpoint\u001b[49m\u001b[38;5;241;43m=\u001b[39;49m\u001b[43mresume_from_checkpoint\u001b[49m\u001b[43m,\u001b[49m\n\u001b[0;32m   2174\u001b[0m \u001b[43m        \u001b[49m\u001b[43mtrial\u001b[49m\u001b[38;5;241;43m=\u001b[39;49m\u001b[43mtrial\u001b[49m\u001b[43m,\u001b[49m\n\u001b[0;32m   2175\u001b[0m \u001b[43m        \u001b[49m\u001b[43mignore_keys_for_eval\u001b[49m\u001b[38;5;241;43m=\u001b[39;49m\u001b[43mignore_keys_for_eval\u001b[49m\u001b[43m,\u001b[49m\n\u001b[0;32m   2176\u001b[0m \u001b[43m    \u001b[49m\u001b[43m)\u001b[49m\n",
      "File \u001b[1;32md:\\Virtual Environments\\Thesis\\env\\Lib\\site-packages\\transformers\\trainer.py:2480\u001b[0m, in \u001b[0;36mTrainer._inner_training_loop\u001b[1;34m(self, batch_size, args, resume_from_checkpoint, trial, ignore_keys_for_eval)\u001b[0m\n\u001b[0;32m   2478\u001b[0m update_step \u001b[38;5;241m+\u001b[39m\u001b[38;5;241m=\u001b[39m \u001b[38;5;241m1\u001b[39m\n\u001b[0;32m   2479\u001b[0m num_batches \u001b[38;5;241m=\u001b[39m args\u001b[38;5;241m.\u001b[39mgradient_accumulation_steps \u001b[38;5;28;01mif\u001b[39;00m update_step \u001b[38;5;241m!=\u001b[39m (total_updates \u001b[38;5;241m-\u001b[39m \u001b[38;5;241m1\u001b[39m) \u001b[38;5;28;01melse\u001b[39;00m remainder\n\u001b[1;32m-> 2480\u001b[0m batch_samples, num_items_in_batch \u001b[38;5;241m=\u001b[39m \u001b[38;5;28;43mself\u001b[39;49m\u001b[38;5;241;43m.\u001b[39;49m\u001b[43mget_batch_samples\u001b[49m\u001b[43m(\u001b[49m\u001b[43mepoch_iterator\u001b[49m\u001b[43m,\u001b[49m\u001b[43m \u001b[49m\u001b[43mnum_batches\u001b[49m\u001b[43m)\u001b[49m\n\u001b[0;32m   2481\u001b[0m \u001b[38;5;28;01mfor\u001b[39;00m i, inputs \u001b[38;5;129;01min\u001b[39;00m \u001b[38;5;28menumerate\u001b[39m(batch_samples):\n\u001b[0;32m   2482\u001b[0m     step \u001b[38;5;241m+\u001b[39m\u001b[38;5;241m=\u001b[39m \u001b[38;5;241m1\u001b[39m\n",
      "File \u001b[1;32md:\\Virtual Environments\\Thesis\\env\\Lib\\site-packages\\transformers\\trainer.py:5153\u001b[0m, in \u001b[0;36mTrainer.get_batch_samples\u001b[1;34m(self, epoch_iterator, num_batches)\u001b[0m\n\u001b[0;32m   5151\u001b[0m \u001b[38;5;28;01mfor\u001b[39;00m _ \u001b[38;5;129;01min\u001b[39;00m \u001b[38;5;28mrange\u001b[39m(num_batches):\n\u001b[0;32m   5152\u001b[0m     \u001b[38;5;28;01mtry\u001b[39;00m:\n\u001b[1;32m-> 5153\u001b[0m         batch_samples \u001b[38;5;241m+\u001b[39m\u001b[38;5;241m=\u001b[39m [\u001b[38;5;28;43mnext\u001b[39;49m\u001b[43m(\u001b[49m\u001b[43mepoch_iterator\u001b[49m\u001b[43m)\u001b[49m]\n\u001b[0;32m   5154\u001b[0m     \u001b[38;5;28;01mexcept\u001b[39;00m \u001b[38;5;167;01mStopIteration\u001b[39;00m:\n\u001b[0;32m   5155\u001b[0m         \u001b[38;5;28;01mbreak\u001b[39;00m\n",
      "File \u001b[1;32md:\\Virtual Environments\\Thesis\\env\\Lib\\site-packages\\accelerate\\data_loader.py:563\u001b[0m, in \u001b[0;36mDataLoaderShard.__iter__\u001b[1;34m(self)\u001b[0m\n\u001b[0;32m    561\u001b[0m \u001b[38;5;66;03m# We iterate one batch ahead to check when we are at the end\u001b[39;00m\n\u001b[0;32m    562\u001b[0m \u001b[38;5;28;01mtry\u001b[39;00m:\n\u001b[1;32m--> 563\u001b[0m     current_batch \u001b[38;5;241m=\u001b[39m \u001b[38;5;28;43mnext\u001b[39;49m\u001b[43m(\u001b[49m\u001b[43mdataloader_iter\u001b[49m\u001b[43m)\u001b[49m\n\u001b[0;32m    564\u001b[0m \u001b[38;5;28;01mexcept\u001b[39;00m \u001b[38;5;167;01mStopIteration\u001b[39;00m:\n\u001b[0;32m    565\u001b[0m     \u001b[38;5;28;01myield\u001b[39;00m\n",
      "File \u001b[1;32md:\\Virtual Environments\\Thesis\\env\\Lib\\site-packages\\torch\\utils\\data\\dataloader.py:708\u001b[0m, in \u001b[0;36m_BaseDataLoaderIter.__next__\u001b[1;34m(self)\u001b[0m\n\u001b[0;32m    705\u001b[0m \u001b[38;5;28;01mif\u001b[39;00m \u001b[38;5;28mself\u001b[39m\u001b[38;5;241m.\u001b[39m_sampler_iter \u001b[38;5;129;01mis\u001b[39;00m \u001b[38;5;28;01mNone\u001b[39;00m:\n\u001b[0;32m    706\u001b[0m     \u001b[38;5;66;03m# TODO(https://github.com/pytorch/pytorch/issues/76750)\u001b[39;00m\n\u001b[0;32m    707\u001b[0m     \u001b[38;5;28mself\u001b[39m\u001b[38;5;241m.\u001b[39m_reset()  \u001b[38;5;66;03m# type: ignore[call-arg]\u001b[39;00m\n\u001b[1;32m--> 708\u001b[0m data \u001b[38;5;241m=\u001b[39m \u001b[38;5;28;43mself\u001b[39;49m\u001b[38;5;241;43m.\u001b[39;49m\u001b[43m_next_data\u001b[49m\u001b[43m(\u001b[49m\u001b[43m)\u001b[49m\n\u001b[0;32m    709\u001b[0m \u001b[38;5;28mself\u001b[39m\u001b[38;5;241m.\u001b[39m_num_yielded \u001b[38;5;241m+\u001b[39m\u001b[38;5;241m=\u001b[39m \u001b[38;5;241m1\u001b[39m\n\u001b[0;32m    710\u001b[0m \u001b[38;5;28;01mif\u001b[39;00m (\n\u001b[0;32m    711\u001b[0m     \u001b[38;5;28mself\u001b[39m\u001b[38;5;241m.\u001b[39m_dataset_kind \u001b[38;5;241m==\u001b[39m _DatasetKind\u001b[38;5;241m.\u001b[39mIterable\n\u001b[0;32m    712\u001b[0m     \u001b[38;5;129;01mand\u001b[39;00m \u001b[38;5;28mself\u001b[39m\u001b[38;5;241m.\u001b[39m_IterableDataset_len_called \u001b[38;5;129;01mis\u001b[39;00m \u001b[38;5;129;01mnot\u001b[39;00m \u001b[38;5;28;01mNone\u001b[39;00m\n\u001b[0;32m    713\u001b[0m     \u001b[38;5;129;01mand\u001b[39;00m \u001b[38;5;28mself\u001b[39m\u001b[38;5;241m.\u001b[39m_num_yielded \u001b[38;5;241m>\u001b[39m \u001b[38;5;28mself\u001b[39m\u001b[38;5;241m.\u001b[39m_IterableDataset_len_called\n\u001b[0;32m    714\u001b[0m ):\n",
      "File \u001b[1;32md:\\Virtual Environments\\Thesis\\env\\Lib\\site-packages\\torch\\utils\\data\\dataloader.py:764\u001b[0m, in \u001b[0;36m_SingleProcessDataLoaderIter._next_data\u001b[1;34m(self)\u001b[0m\n\u001b[0;32m    762\u001b[0m \u001b[38;5;28;01mdef\u001b[39;00m\u001b[38;5;250m \u001b[39m\u001b[38;5;21m_next_data\u001b[39m(\u001b[38;5;28mself\u001b[39m):\n\u001b[0;32m    763\u001b[0m     index \u001b[38;5;241m=\u001b[39m \u001b[38;5;28mself\u001b[39m\u001b[38;5;241m.\u001b[39m_next_index()  \u001b[38;5;66;03m# may raise StopIteration\u001b[39;00m\n\u001b[1;32m--> 764\u001b[0m     data \u001b[38;5;241m=\u001b[39m \u001b[38;5;28;43mself\u001b[39;49m\u001b[38;5;241;43m.\u001b[39;49m\u001b[43m_dataset_fetcher\u001b[49m\u001b[38;5;241;43m.\u001b[39;49m\u001b[43mfetch\u001b[49m\u001b[43m(\u001b[49m\u001b[43mindex\u001b[49m\u001b[43m)\u001b[49m  \u001b[38;5;66;03m# may raise StopIteration\u001b[39;00m\n\u001b[0;32m    765\u001b[0m     \u001b[38;5;28;01mif\u001b[39;00m \u001b[38;5;28mself\u001b[39m\u001b[38;5;241m.\u001b[39m_pin_memory:\n\u001b[0;32m    766\u001b[0m         data \u001b[38;5;241m=\u001b[39m _utils\u001b[38;5;241m.\u001b[39mpin_memory\u001b[38;5;241m.\u001b[39mpin_memory(data, \u001b[38;5;28mself\u001b[39m\u001b[38;5;241m.\u001b[39m_pin_memory_device)\n",
      "File \u001b[1;32md:\\Virtual Environments\\Thesis\\env\\Lib\\site-packages\\torch\\utils\\data\\_utils\\fetch.py:55\u001b[0m, in \u001b[0;36m_MapDatasetFetcher.fetch\u001b[1;34m(self, possibly_batched_index)\u001b[0m\n\u001b[0;32m     53\u001b[0m \u001b[38;5;28;01melse\u001b[39;00m:\n\u001b[0;32m     54\u001b[0m     data \u001b[38;5;241m=\u001b[39m \u001b[38;5;28mself\u001b[39m\u001b[38;5;241m.\u001b[39mdataset[possibly_batched_index]\n\u001b[1;32m---> 55\u001b[0m \u001b[38;5;28;01mreturn\u001b[39;00m \u001b[38;5;28;43mself\u001b[39;49m\u001b[38;5;241;43m.\u001b[39;49m\u001b[43mcollate_fn\u001b[49m\u001b[43m(\u001b[49m\u001b[43mdata\u001b[49m\u001b[43m)\u001b[49m\n",
      "Cell \u001b[1;32mIn[27], line 3\u001b[0m, in \u001b[0;36mcollate_fn\u001b[1;34m(batch)\u001b[0m\n\u001b[0;32m      1\u001b[0m \u001b[38;5;28;01mdef\u001b[39;00m\u001b[38;5;250m \u001b[39m\u001b[38;5;21mcollate_fn\u001b[39m(batch):\n\u001b[0;32m      2\u001b[0m     \u001b[38;5;66;03m# Convert each example into PyTorch tensors\u001b[39;00m\n\u001b[1;32m----> 3\u001b[0m     input_ids \u001b[38;5;241m=\u001b[39m torch\u001b[38;5;241m.\u001b[39mtensor([ [\u001b[43mex\u001b[49m\u001b[43m[\u001b[49m\u001b[43mcol\u001b[49m\u001b[43m]\u001b[49m \u001b[38;5;28;01mfor\u001b[39;00m col \u001b[38;5;129;01min\u001b[39;00m feature_cols] \u001b[38;5;28;01mfor\u001b[39;00m ex \u001b[38;5;129;01min\u001b[39;00m batch ])\n\u001b[0;32m      4\u001b[0m     labels \u001b[38;5;241m=\u001b[39m torch\u001b[38;5;241m.\u001b[39mtensor([ex[\u001b[38;5;124m\"\u001b[39m\u001b[38;5;124mlabels\u001b[39m\u001b[38;5;124m\"\u001b[39m] \u001b[38;5;28;01mfor\u001b[39;00m ex \u001b[38;5;129;01min\u001b[39;00m batch])\n\u001b[0;32m      5\u001b[0m     \u001b[38;5;28;01mreturn\u001b[39;00m {\u001b[38;5;124m\"\u001b[39m\u001b[38;5;124minput_ids\u001b[39m\u001b[38;5;124m\"\u001b[39m: input_ids, \u001b[38;5;124m\"\u001b[39m\u001b[38;5;124mlabels\u001b[39m\u001b[38;5;124m\"\u001b[39m: labels}\n",
      "\u001b[1;31mKeyError\u001b[0m: 'electra_0'"
     ]
    }
   ],
   "source": [
    "features = len(combined_dataframe.columns) - 1\n",
    "\n",
    "output_dir = './models/Meta model'\n",
    "model = MLP(input_dim=features , num_labels=4)\n",
    "\n",
    "training_args = TrainingArguments(\n",
    "    output_dir = output_dir,\n",
    "    per_device_train_batch_size=16,\n",
    "    per_device_eval_batch_size=16,\n",
    "    num_train_epochs=5,\n",
    "    learning_rate = 0.00002,\n",
    "    weight_decay=0.01,\n",
    "    eval_strategy = 'epoch',\n",
    "    report_to = []\n",
    ")\n",
    "\n",
    "trainer = Trainer(\n",
    "    model=model,\n",
    "    args=training_args,\n",
    "    train_dataset=combined_dataset[\"train\"],\n",
    "    eval_dataset=combined_dataset[\"test\"],\n",
    "    data_collator=collate_fn,\n",
    "    compute_metrics=compute_metrics\n",
    ")\n",
    "\n",
    "trainer.train()\n",
    "trainer.evaluate()"
   ]
  },
  {
   "cell_type": "markdown",
   "metadata": {},
   "source": [
    "## Logistic Regression"
   ]
  },
  {
   "cell_type": "code",
   "execution_count": 46,
   "metadata": {},
   "outputs": [
    {
     "name": "stdout",
     "output_type": "stream",
     "text": [
      "Logistic Regression Accuracy: 0.875\n"
     ]
    }
   ],
   "source": [
    "from sklearn.model_selection import train_test_split\n",
    "from sklearn.linear_model import LogisticRegression\n",
    "from sklearn.metrics import accuracy_score\n",
    "\n",
    "feature_cols = [col for col in combined_dataframe.columns if col != \"label\"]\n",
    "X = combined_dataframe[feature_cols]\n",
    "y = combined_dataframe[\"label\"]\n",
    "\n",
    "X_train, X_test, y_train, y_test = train_test_split(\n",
    "    X, y, test_size=0.2, random_state=42\n",
    ")\n",
    "\n",
    "\n",
    "lr_model = LogisticRegression(max_iter=500, random_state=42)\n",
    "lr_model.fit(X_train, y_train)\n",
    "\n",
    "lr_preds = lr_model.predict(X_test)\n",
    "\n",
    "lr_acc = accuracy_score(y_test, lr_preds)\n",
    "print(\"Logistic Regression Accuracy:\", lr_acc)\n"
   ]
  },
  {
   "cell_type": "markdown",
   "metadata": {},
   "source": [
    "## Random Forest"
   ]
  },
  {
   "cell_type": "code",
   "execution_count": 47,
   "metadata": {},
   "outputs": [
    {
     "name": "stdout",
     "output_type": "stream",
     "text": [
      "Random Forest Accuracy: 0.890625\n"
     ]
    }
   ],
   "source": [
    "from sklearn.ensemble import RandomForestClassifier\n",
    "\n",
    "rf_model = RandomForestClassifier(n_estimators=100, random_state=42)\n",
    "rf_model.fit(X_train, y_train)\n",
    "\n",
    "rf_preds = rf_model.predict(X_test)\n",
    "\n",
    "rf_acc = accuracy_score(y_test, rf_preds)\n",
    "print(\"Random Forest Accuracy:\", rf_acc)\n"
   ]
  }
 ],
 "metadata": {
  "kernelspec": {
   "display_name": "env",
   "language": "python",
   "name": "python3"
  },
  "language_info": {
   "codemirror_mode": {
    "name": "ipython",
    "version": 3
   },
   "file_extension": ".py",
   "mimetype": "text/x-python",
   "name": "python",
   "nbconvert_exporter": "python",
   "pygments_lexer": "ipython3",
   "version": "3.12.4"
  }
 },
 "nbformat": 4,
 "nbformat_minor": 2
}
