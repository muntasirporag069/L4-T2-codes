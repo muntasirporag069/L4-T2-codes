{
 "cells": [
  {
   "cell_type": "markdown",
   "metadata": {},
   "source": [
    "# Preprocessing"
   ]
  },
  {
   "cell_type": "code",
   "execution_count": 2,
   "metadata": {},
   "outputs": [
    {
     "name": "stderr",
     "output_type": "stream",
     "text": [
      "[nltk_data] Downloading package punkt_tab to\n",
      "[nltk_data]     C:\\Users\\User\\AppData\\Roaming\\nltk_data...\n",
      "[nltk_data]   Package punkt_tab is already up-to-date!\n",
      "[nltk_data] Downloading package stopwords to\n",
      "[nltk_data]     C:\\Users\\User\\AppData\\Roaming\\nltk_data...\n",
      "[nltk_data]   Package stopwords is already up-to-date!\n",
      "[nltk_data] Downloading package words to\n",
      "[nltk_data]     C:\\Users\\User\\AppData\\Roaming\\nltk_data...\n",
      "[nltk_data]   Package words is already up-to-date!\n",
      "[nltk_data] Downloading package wordnet to\n",
      "[nltk_data]     C:\\Users\\User\\AppData\\Roaming\\nltk_data...\n",
      "[nltk_data]   Package wordnet is already up-to-date!\n"
     ]
    }
   ],
   "source": [
    "import pandas as pd\n",
    "from datasets import load_dataset\n",
    "import nltk\n",
    "nltk.download('punkt_tab')\n",
    "nltk.download('stopwords')\n",
    "nltk.download('words')\n",
    "nltk.download('wordnet')\n",
    "import string"
   ]
  },
  {
   "cell_type": "markdown",
   "metadata": {},
   "source": [
    "## Tokenization (after Lowercasing, removing extra Whitespace)"
   ]
  },
  {
   "cell_type": "code",
   "execution_count": 3,
   "metadata": {},
   "outputs": [],
   "source": [
    "from datasets import load_dataset\n",
    "\n",
    "op_dataset_raw = load_dataset(\"csv\" , data_files=r\"D:\\Virtual Environments\\Thesis\\datasets\\OpSpam dataset.csv\")\n",
    "op_dataset_raw = op_dataset_raw[\"train\"].remove_columns(['hotel' , 'source'])"
   ]
  },
  {
   "cell_type": "code",
   "execution_count": 4,
   "metadata": {},
   "outputs": [
    {
     "name": "stdout",
     "output_type": "stream",
     "text": [
      "['truthful_positive', 'truthful_negative', 'deceptive_positive', 'deceptive_negative']\n"
     ]
    }
   ],
   "source": [
    "def combine_labels(record):\n",
    "    record[\"label\"] = record[\"deceptive\"] + \"_\" + record[\"polarity\"]\n",
    "    return record\n",
    "op_dataset_raw = op_dataset_raw.map(combine_labels)\n",
    "op_dataset_raw = op_dataset_raw.remove_columns([\"deceptive\" , \"polarity\"])\n",
    "\n",
    "unique_classes = list(set(op_dataset_raw[\"label\"]))\n",
    "unique_classes.sort(reverse=True)\n",
    "print(unique_classes)\n",
    "\n",
    "def one_hot_encoding(record):\n",
    "    record[\"label\"] = unique_classes.index(record[\"label\"])\n",
    "    return record\n",
    "\n",
    "op_dataset_raw = op_dataset_raw.map(one_hot_encoding)"
   ]
  },
  {
   "cell_type": "code",
   "execution_count": 5,
   "metadata": {},
   "outputs": [
    {
     "data": {
      "text/plain": [
       "[['we',\n",
       "  'stayed',\n",
       "  'for',\n",
       "  'a',\n",
       "  'one',\n",
       "  'night',\n",
       "  'getaway',\n",
       "  'with',\n",
       "  'family',\n",
       "  'on',\n",
       "  'a',\n",
       "  'thursday',\n",
       "  '.',\n",
       "  'triple',\n",
       "  'aaa',\n",
       "  'rate',\n",
       "  'of',\n",
       "  '173',\n",
       "  'was',\n",
       "  'a',\n",
       "  'steal',\n",
       "  '.',\n",
       "  '7th',\n",
       "  'floor',\n",
       "  'room',\n",
       "  'complete',\n",
       "  'with',\n",
       "  '44in',\n",
       "  'plasma',\n",
       "  'tv',\n",
       "  'bose',\n",
       "  'stereo',\n",
       "  ',',\n",
       "  'voss',\n",
       "  'and',\n",
       "  'evian',\n",
       "  'water',\n",
       "  ',',\n",
       "  'and',\n",
       "  'gorgeous',\n",
       "  'bathroom',\n",
       "  '(',\n",
       "  'no',\n",
       "  'tub',\n",
       "  'but',\n",
       "  'was',\n",
       "  'fine',\n",
       "  'for',\n",
       "  'us',\n",
       "  ')',\n",
       "  'concierge',\n",
       "  'was',\n",
       "  'very',\n",
       "  'helpful',\n",
       "  '.',\n",
       "  'you',\n",
       "  'can',\n",
       "  'not',\n",
       "  'beat',\n",
       "  'this',\n",
       "  'location',\n",
       "  '...',\n",
       "  'only',\n",
       "  'flaw',\n",
       "  'was',\n",
       "  'breakfast',\n",
       "  'was',\n",
       "  'pricey',\n",
       "  'and',\n",
       "  'service',\n",
       "  'was',\n",
       "  'very',\n",
       "  'very',\n",
       "  'slow',\n",
       "  '(',\n",
       "  '2hours',\n",
       "  'for',\n",
       "  'four',\n",
       "  'kids',\n",
       "  'and',\n",
       "  'four',\n",
       "  'adults',\n",
       "  'on',\n",
       "  'a',\n",
       "  'friday',\n",
       "  'morning',\n",
       "  ')',\n",
       "  'even',\n",
       "  'though',\n",
       "  'there',\n",
       "  'were',\n",
       "  'only',\n",
       "  'two',\n",
       "  'other',\n",
       "  'tables',\n",
       "  'in',\n",
       "  'the',\n",
       "  'restaurant',\n",
       "  '.',\n",
       "  'food',\n",
       "  'was',\n",
       "  'very',\n",
       "  'good',\n",
       "  'so',\n",
       "  'it',\n",
       "  'was',\n",
       "  'worth',\n",
       "  'the',\n",
       "  'wait',\n",
       "  '.',\n",
       "  'i',\n",
       "  'would',\n",
       "  'return',\n",
       "  'in',\n",
       "  'a',\n",
       "  'heartbeat',\n",
       "  '.',\n",
       "  'a',\n",
       "  'gem',\n",
       "  'in',\n",
       "  'chicago',\n",
       "  '...']]"
      ]
     },
     "execution_count": 5,
     "metadata": {},
     "output_type": "execute_result"
    }
   ],
   "source": [
    "tokenized_text_1 = []\n",
    "for text in op_dataset_raw['text']:\n",
    "  text = text.lower()\n",
    "  text = text.strip()\n",
    "  tokenized_text_1 += [nltk.word_tokenize(text)]\n",
    "tokenized_text_1[:1]"
   ]
  },
  {
   "cell_type": "markdown",
   "metadata": {},
   "source": [
    "## Punctuation and Stop word Removal"
   ]
  },
  {
   "cell_type": "code",
   "execution_count": 6,
   "metadata": {},
   "outputs": [
    {
     "data": {
      "text/plain": [
       "[['stayed',\n",
       "  'one',\n",
       "  'night',\n",
       "  'getaway',\n",
       "  'family',\n",
       "  'thursday',\n",
       "  'triple',\n",
       "  'aaa',\n",
       "  'rate',\n",
       "  '173',\n",
       "  'steal',\n",
       "  '7th',\n",
       "  'floor',\n",
       "  'room',\n",
       "  'complete',\n",
       "  '44in',\n",
       "  'plasma',\n",
       "  'tv',\n",
       "  'bose',\n",
       "  'stereo',\n",
       "  'voss',\n",
       "  'evian',\n",
       "  'water',\n",
       "  'gorgeous',\n",
       "  'bathroom',\n",
       "  'tub',\n",
       "  'fine',\n",
       "  'us',\n",
       "  'concierge',\n",
       "  'helpful',\n",
       "  'beat',\n",
       "  'location',\n",
       "  '...',\n",
       "  'flaw',\n",
       "  'breakfast',\n",
       "  'pricey',\n",
       "  'service',\n",
       "  'slow',\n",
       "  '2hours',\n",
       "  'four',\n",
       "  'kids',\n",
       "  'four',\n",
       "  'adults',\n",
       "  'friday',\n",
       "  'morning',\n",
       "  'even',\n",
       "  'though',\n",
       "  'two',\n",
       "  'tables',\n",
       "  'restaurant',\n",
       "  'food',\n",
       "  'good',\n",
       "  'worth',\n",
       "  'wait',\n",
       "  'would',\n",
       "  'return',\n",
       "  'heartbeat',\n",
       "  'gem',\n",
       "  'chicago',\n",
       "  '...'],\n",
       " ['triple',\n",
       "  'rate',\n",
       "  'upgrade',\n",
       "  'view',\n",
       "  'room',\n",
       "  'less',\n",
       "  '200',\n",
       "  'also',\n",
       "  'included',\n",
       "  'breakfast',\n",
       "  'vouchers',\n",
       "  'great',\n",
       "  'view',\n",
       "  'river',\n",
       "  'lake',\n",
       "  'wrigley',\n",
       "  'bldg',\n",
       "  'tribune',\n",
       "  'bldg',\n",
       "  'major',\n",
       "  'restaurants',\n",
       "  'shopping',\n",
       "  'sightseeing',\n",
       "  'attractions',\n",
       "  'within',\n",
       "  'walking',\n",
       "  'distance',\n",
       "  'large',\n",
       "  'room',\n",
       "  'comfortable',\n",
       "  'bed']]"
      ]
     },
     "execution_count": 6,
     "metadata": {},
     "output_type": "execute_result"
    }
   ],
   "source": [
    "tokenized_text_2 = []\n",
    "for text in tokenized_text_1:\n",
    "  filtered_tokens = []\n",
    "  for token in text:\n",
    "    if (token not in string.punctuation) and (token not in nltk.corpus.stopwords.words('english')):\n",
    "      filtered_tokens += [token]\n",
    "  tokenized_text_2 += [filtered_tokens]\n",
    "\n",
    "tokenized_text_2[:2]"
   ]
  },
  {
   "cell_type": "markdown",
   "metadata": {},
   "source": [
    "## Frequent Word Removal"
   ]
  },
  {
   "cell_type": "code",
   "execution_count": 7,
   "metadata": {},
   "outputs": [
    {
     "name": "stdout",
     "output_type": "stream",
     "text": [
      "['i', 'the', ',', '.', 'was', 'to', 'of', 'a', 'and', 'my']\n"
     ]
    },
    {
     "data": {
      "text/plain": [
       "[['stayed',\n",
       "  'one',\n",
       "  'night',\n",
       "  'getaway',\n",
       "  'family',\n",
       "  'thursday',\n",
       "  'triple',\n",
       "  'aaa',\n",
       "  'rate',\n",
       "  '173',\n",
       "  'steal',\n",
       "  '7th',\n",
       "  'floor',\n",
       "  'room',\n",
       "  'complete',\n",
       "  '44in',\n",
       "  'plasma',\n",
       "  'tv',\n",
       "  'bose',\n",
       "  'stereo',\n",
       "  'voss',\n",
       "  'evian',\n",
       "  'water',\n",
       "  'gorgeous',\n",
       "  'bathroom',\n",
       "  'tub',\n",
       "  'fine',\n",
       "  'us',\n",
       "  'concierge',\n",
       "  'helpful',\n",
       "  'beat',\n",
       "  'location',\n",
       "  '...',\n",
       "  'flaw',\n",
       "  'breakfast',\n",
       "  'pricey',\n",
       "  'service',\n",
       "  'slow',\n",
       "  '2hours',\n",
       "  'four',\n",
       "  'kids',\n",
       "  'four',\n",
       "  'adults',\n",
       "  'friday',\n",
       "  'morning',\n",
       "  'even',\n",
       "  'though',\n",
       "  'two',\n",
       "  'tables',\n",
       "  'restaurant',\n",
       "  'food',\n",
       "  'good',\n",
       "  'worth',\n",
       "  'wait',\n",
       "  'would',\n",
       "  'return',\n",
       "  'heartbeat',\n",
       "  'gem',\n",
       "  'chicago',\n",
       "  '...'],\n",
       " ['triple',\n",
       "  'rate',\n",
       "  'upgrade',\n",
       "  'view',\n",
       "  'room',\n",
       "  'less',\n",
       "  '200',\n",
       "  'also',\n",
       "  'included',\n",
       "  'breakfast',\n",
       "  'vouchers',\n",
       "  'great',\n",
       "  'view',\n",
       "  'river',\n",
       "  'lake',\n",
       "  'wrigley',\n",
       "  'bldg',\n",
       "  'tribune',\n",
       "  'bldg',\n",
       "  'major',\n",
       "  'restaurants',\n",
       "  'shopping',\n",
       "  'sightseeing',\n",
       "  'attractions',\n",
       "  'within',\n",
       "  'walking',\n",
       "  'distance',\n",
       "  'large',\n",
       "  'room',\n",
       "  'comfortable',\n",
       "  'bed']]"
      ]
     },
     "execution_count": 7,
     "metadata": {},
     "output_type": "execute_result"
    }
   ],
   "source": [
    "raw_text = []\n",
    "for sentence in tokenized_text_2:\n",
    "  for token in sentence:\n",
    "    raw_text += [token]\n",
    "\n",
    "frequency_distribution = nltk.FreqDist(text)\n",
    "\n",
    "frequency_distribution.most_common(10) # 10 most common words\n",
    "most_common_words = [item[0] for item in frequency_distribution.most_common(10)]  # extracting from tuples\n",
    "print(most_common_words)\n",
    "\n",
    "tokenized_text_3 = []\n",
    "for text in tokenized_text_2:\n",
    "  uncommon_words = []\n",
    "  for token in text:\n",
    "    if token not in most_common_words:\n",
    "      uncommon_words += [token]\n",
    "  tokenized_text_3 += [uncommon_words]\n",
    "\n",
    "tokenized_text_3[:2]"
   ]
  },
  {
   "cell_type": "markdown",
   "metadata": {},
   "source": [
    "## Lemmatization"
   ]
  },
  {
   "cell_type": "code",
   "execution_count": 8,
   "metadata": {},
   "outputs": [
    {
     "data": {
      "text/plain": [
       "[['stayed',\n",
       "  'one',\n",
       "  'night',\n",
       "  'getaway',\n",
       "  'family',\n",
       "  'thursday',\n",
       "  'triple',\n",
       "  'aaa',\n",
       "  'rate',\n",
       "  '173',\n",
       "  'steal',\n",
       "  '7th',\n",
       "  'floor',\n",
       "  'room',\n",
       "  'complete',\n",
       "  '44in',\n",
       "  'plasma',\n",
       "  'tv',\n",
       "  'bose',\n",
       "  'stereo',\n",
       "  'voss',\n",
       "  'evian',\n",
       "  'water',\n",
       "  'gorgeous',\n",
       "  'bathroom',\n",
       "  'tub',\n",
       "  'fine',\n",
       "  'u',\n",
       "  'concierge',\n",
       "  'helpful',\n",
       "  'beat',\n",
       "  'location',\n",
       "  '...',\n",
       "  'flaw',\n",
       "  'breakfast',\n",
       "  'pricey',\n",
       "  'service',\n",
       "  'slow',\n",
       "  '2hours',\n",
       "  'four',\n",
       "  'kid',\n",
       "  'four',\n",
       "  'adult',\n",
       "  'friday',\n",
       "  'morning',\n",
       "  'even',\n",
       "  'though',\n",
       "  'two',\n",
       "  'table',\n",
       "  'restaurant',\n",
       "  'food',\n",
       "  'good',\n",
       "  'worth',\n",
       "  'wait',\n",
       "  'would',\n",
       "  'return',\n",
       "  'heartbeat',\n",
       "  'gem',\n",
       "  'chicago',\n",
       "  '...'],\n",
       " ['triple',\n",
       "  'rate',\n",
       "  'upgrade',\n",
       "  'view',\n",
       "  'room',\n",
       "  'less',\n",
       "  '200',\n",
       "  'also',\n",
       "  'included',\n",
       "  'breakfast',\n",
       "  'voucher',\n",
       "  'great',\n",
       "  'view',\n",
       "  'river',\n",
       "  'lake',\n",
       "  'wrigley',\n",
       "  'bldg',\n",
       "  'tribune',\n",
       "  'bldg',\n",
       "  'major',\n",
       "  'restaurant',\n",
       "  'shopping',\n",
       "  'sightseeing',\n",
       "  'attraction',\n",
       "  'within',\n",
       "  'walking',\n",
       "  'distance',\n",
       "  'large',\n",
       "  'room',\n",
       "  'comfortable',\n",
       "  'bed']]"
      ]
     },
     "execution_count": 8,
     "metadata": {},
     "output_type": "execute_result"
    }
   ],
   "source": [
    "lemmatizer = nltk.stem.WordNetLemmatizer()\n",
    "\n",
    "tokenized_text_4 = []\n",
    "for sentence in tokenized_text_3:\n",
    "  lemmatized_tokens = []\n",
    "  for token in sentence:\n",
    "    lemmatized_tokens += [lemmatizer.lemmatize(token)]\n",
    "  tokenized_text_4 += [lemmatized_tokens]\n",
    "\n",
    "tokenized_text_4[:2]"
   ]
  },
  {
   "cell_type": "markdown",
   "metadata": {},
   "source": [
    "# Feature Extraction"
   ]
  },
  {
   "cell_type": "markdown",
   "metadata": {},
   "source": [
    "## TF-IDF"
   ]
  },
  {
   "cell_type": "code",
   "execution_count": 9,
   "metadata": {},
   "outputs": [],
   "source": [
    "from sklearn.feature_extraction.text import TfidfVectorizer\n",
    "\n",
    "recompiled_sentences = []\n",
    "for sentence in tokenized_text_4:\n",
    "  recompiled_sentences += [' '.join(sentence)]\n",
    "\n",
    "recompiled_sentences[:2]\n",
    "\n",
    "tfidf_vectorizer = TfidfVectorizer()\n",
    "tfidf_matrix = tfidf_vectorizer.fit_transform(recompiled_sentences)\n",
    "tfidf_feature_names = tfidf_vectorizer.get_feature_names_out()\n",
    "tfidf_scores = tfidf_matrix.toarray()\n"
   ]
  },
  {
   "cell_type": "markdown",
   "metadata": {},
   "source": [
    "## Sentence Vectorization"
   ]
  },
  {
   "cell_type": "code",
   "execution_count": 10,
   "metadata": {},
   "outputs": [
    {
     "data": {
      "text/html": [
       "<div>\n",
       "<style scoped>\n",
       "    .dataframe tbody tr th:only-of-type {\n",
       "        vertical-align: middle;\n",
       "    }\n",
       "\n",
       "    .dataframe tbody tr th {\n",
       "        vertical-align: top;\n",
       "    }\n",
       "\n",
       "    .dataframe thead th {\n",
       "        text-align: right;\n",
       "    }\n",
       "</style>\n",
       "<table border=\"1\" class=\"dataframe\">\n",
       "  <thead>\n",
       "    <tr style=\"text-align: right;\">\n",
       "      <th></th>\n",
       "      <th>00</th>\n",
       "      <th>000</th>\n",
       "      <th>00a</th>\n",
       "      <th>00am</th>\n",
       "      <th>00pm</th>\n",
       "      <th>03</th>\n",
       "      <th>04</th>\n",
       "      <th>05</th>\n",
       "      <th>06</th>\n",
       "      <th>07</th>\n",
       "      <th>...</th>\n",
       "      <th>yummo</th>\n",
       "      <th>yummy</th>\n",
       "      <th>yunan</th>\n",
       "      <th>yup</th>\n",
       "      <th>zagat</th>\n",
       "      <th>zest</th>\n",
       "      <th>zipped</th>\n",
       "      <th>zone</th>\n",
       "      <th>zoo</th>\n",
       "      <th>label</th>\n",
       "    </tr>\n",
       "  </thead>\n",
       "  <tbody>\n",
       "    <tr>\n",
       "      <th>0</th>\n",
       "      <td>0.0</td>\n",
       "      <td>0.0</td>\n",
       "      <td>0.0</td>\n",
       "      <td>0.0</td>\n",
       "      <td>0.0</td>\n",
       "      <td>0.0</td>\n",
       "      <td>0.0</td>\n",
       "      <td>0.0</td>\n",
       "      <td>0.0</td>\n",
       "      <td>0.0</td>\n",
       "      <td>...</td>\n",
       "      <td>0.0</td>\n",
       "      <td>0.0</td>\n",
       "      <td>0.0</td>\n",
       "      <td>0.0</td>\n",
       "      <td>0.0</td>\n",
       "      <td>0.0</td>\n",
       "      <td>0.0</td>\n",
       "      <td>0.0</td>\n",
       "      <td>0.0</td>\n",
       "      <td>0</td>\n",
       "    </tr>\n",
       "    <tr>\n",
       "      <th>1</th>\n",
       "      <td>0.0</td>\n",
       "      <td>0.0</td>\n",
       "      <td>0.0</td>\n",
       "      <td>0.0</td>\n",
       "      <td>0.0</td>\n",
       "      <td>0.0</td>\n",
       "      <td>0.0</td>\n",
       "      <td>0.0</td>\n",
       "      <td>0.0</td>\n",
       "      <td>0.0</td>\n",
       "      <td>...</td>\n",
       "      <td>0.0</td>\n",
       "      <td>0.0</td>\n",
       "      <td>0.0</td>\n",
       "      <td>0.0</td>\n",
       "      <td>0.0</td>\n",
       "      <td>0.0</td>\n",
       "      <td>0.0</td>\n",
       "      <td>0.0</td>\n",
       "      <td>0.0</td>\n",
       "      <td>0</td>\n",
       "    </tr>\n",
       "    <tr>\n",
       "      <th>2</th>\n",
       "      <td>0.0</td>\n",
       "      <td>0.0</td>\n",
       "      <td>0.0</td>\n",
       "      <td>0.0</td>\n",
       "      <td>0.0</td>\n",
       "      <td>0.0</td>\n",
       "      <td>0.0</td>\n",
       "      <td>0.0</td>\n",
       "      <td>0.0</td>\n",
       "      <td>0.0</td>\n",
       "      <td>...</td>\n",
       "      <td>0.0</td>\n",
       "      <td>0.0</td>\n",
       "      <td>0.0</td>\n",
       "      <td>0.0</td>\n",
       "      <td>0.0</td>\n",
       "      <td>0.0</td>\n",
       "      <td>0.0</td>\n",
       "      <td>0.0</td>\n",
       "      <td>0.0</td>\n",
       "      <td>0</td>\n",
       "    </tr>\n",
       "    <tr>\n",
       "      <th>3</th>\n",
       "      <td>0.0</td>\n",
       "      <td>0.0</td>\n",
       "      <td>0.0</td>\n",
       "      <td>0.0</td>\n",
       "      <td>0.0</td>\n",
       "      <td>0.0</td>\n",
       "      <td>0.0</td>\n",
       "      <td>0.0</td>\n",
       "      <td>0.0</td>\n",
       "      <td>0.0</td>\n",
       "      <td>...</td>\n",
       "      <td>0.0</td>\n",
       "      <td>0.0</td>\n",
       "      <td>0.0</td>\n",
       "      <td>0.0</td>\n",
       "      <td>0.0</td>\n",
       "      <td>0.0</td>\n",
       "      <td>0.0</td>\n",
       "      <td>0.0</td>\n",
       "      <td>0.0</td>\n",
       "      <td>0</td>\n",
       "    </tr>\n",
       "    <tr>\n",
       "      <th>4</th>\n",
       "      <td>0.0</td>\n",
       "      <td>0.0</td>\n",
       "      <td>0.0</td>\n",
       "      <td>0.0</td>\n",
       "      <td>0.0</td>\n",
       "      <td>0.0</td>\n",
       "      <td>0.0</td>\n",
       "      <td>0.0</td>\n",
       "      <td>0.0</td>\n",
       "      <td>0.0</td>\n",
       "      <td>...</td>\n",
       "      <td>0.0</td>\n",
       "      <td>0.0</td>\n",
       "      <td>0.0</td>\n",
       "      <td>0.0</td>\n",
       "      <td>0.0</td>\n",
       "      <td>0.0</td>\n",
       "      <td>0.0</td>\n",
       "      <td>0.0</td>\n",
       "      <td>0.0</td>\n",
       "      <td>0</td>\n",
       "    </tr>\n",
       "  </tbody>\n",
       "</table>\n",
       "<p>5 rows × 8627 columns</p>\n",
       "</div>"
      ],
      "text/plain": [
       "    00  000  00a  00am  00pm   03   04   05   06   07  ...  yummo  yummy  \\\n",
       "0  0.0  0.0  0.0   0.0   0.0  0.0  0.0  0.0  0.0  0.0  ...    0.0    0.0   \n",
       "1  0.0  0.0  0.0   0.0   0.0  0.0  0.0  0.0  0.0  0.0  ...    0.0    0.0   \n",
       "2  0.0  0.0  0.0   0.0   0.0  0.0  0.0  0.0  0.0  0.0  ...    0.0    0.0   \n",
       "3  0.0  0.0  0.0   0.0   0.0  0.0  0.0  0.0  0.0  0.0  ...    0.0    0.0   \n",
       "4  0.0  0.0  0.0   0.0   0.0  0.0  0.0  0.0  0.0  0.0  ...    0.0    0.0   \n",
       "\n",
       "   yunan  yup  zagat  zest  zipped  zone  zoo  label  \n",
       "0    0.0  0.0    0.0   0.0     0.0   0.0  0.0      0  \n",
       "1    0.0  0.0    0.0   0.0     0.0   0.0  0.0      0  \n",
       "2    0.0  0.0    0.0   0.0     0.0   0.0  0.0      0  \n",
       "3    0.0  0.0    0.0   0.0     0.0   0.0  0.0      0  \n",
       "4    0.0  0.0    0.0   0.0     0.0   0.0  0.0      0  \n",
       "\n",
       "[5 rows x 8627 columns]"
      ]
     },
     "execution_count": 10,
     "metadata": {},
     "output_type": "execute_result"
    }
   ],
   "source": [
    "df_tfidf = pd.DataFrame(tfidf_scores, columns=tfidf_feature_names )\n",
    "df_tfidf['label'] = op_dataset_raw['label']\n",
    "df_tfidf.head()\n"
   ]
  },
  {
   "cell_type": "markdown",
   "metadata": {},
   "source": [
    "# Training and Evaluation of ML models"
   ]
  },
  {
   "cell_type": "markdown",
   "metadata": {},
   "source": [
    "## Splitting Dataset"
   ]
  },
  {
   "cell_type": "code",
   "execution_count": 11,
   "metadata": {},
   "outputs": [],
   "source": [
    "import pandas as pd\n",
    "from sklearn.model_selection import train_test_split\n",
    "\n",
    "# Assuming you already have a DataFrame df_tfidf with TF-IDF features and a 'label' column\n",
    "X = df_tfidf.drop(\"label\", axis=1)\n",
    "y = df_tfidf[\"label\"]\n",
    "\n",
    "X_train, X_test, y_train, y_test = train_test_split(X, y, test_size=0.2, random_state=42)\n"
   ]
  },
  {
   "cell_type": "markdown",
   "metadata": {},
   "source": [
    "## Evaluation Function"
   ]
  },
  {
   "cell_type": "code",
   "execution_count": 12,
   "metadata": {},
   "outputs": [],
   "source": [
    "from sklearn.metrics import accuracy_score, f1_score, precision_score, recall_score\n",
    "\n",
    "def evaluate_model(model, X_test, y_test):\n",
    "    preds = model.predict(X_test)\n",
    "    accuracy = accuracy_score(y_test, preds)\n",
    "    f1 = f1_score(y_test, preds, average='macro')\n",
    "    precision = precision_score(y_test, preds, average='macro')\n",
    "    recall = recall_score(y_test, preds, average='macro')\n",
    "    print(\"Accuracy:\", accuracy)\n",
    "    print(\"F1 Score:\", f1)\n",
    "    print(\"Precision:\", precision)\n",
    "    print(\"Recall:\", recall)"
   ]
  },
  {
   "cell_type": "markdown",
   "metadata": {},
   "source": [
    "## Linear Support Vector Machine"
   ]
  },
  {
   "cell_type": "code",
   "execution_count": 13,
   "metadata": {},
   "outputs": [
    {
     "name": "stdout",
     "output_type": "stream",
     "text": [
      "Linear SVM Performance:\n",
      "Accuracy: 0.828125\n",
      "F1 Score: 0.8285604350536871\n",
      "Precision: 0.8284853422844995\n",
      "Recall: 0.8317986745606937\n"
     ]
    }
   ],
   "source": [
    "from sklearn.svm import LinearSVC\n",
    "\n",
    "LSVM = LinearSVC(random_state=42, max_iter=10000)\n",
    "LSVM.fit(X_train, y_train)\n",
    "\n",
    "print(\"Linear SVM Performance:\")\n",
    "evaluate_model(LSVM, X_test, y_test)"
   ]
  },
  {
   "cell_type": "markdown",
   "metadata": {},
   "source": [
    "## Logistic Regression"
   ]
  },
  {
   "cell_type": "code",
   "execution_count": 14,
   "metadata": {},
   "outputs": [
    {
     "name": "stdout",
     "output_type": "stream",
     "text": [
      "Logistic Regression Performance:\n",
      "Accuracy: 0.840625\n",
      "F1 Score: 0.8406648144426555\n",
      "Precision: 0.8408320155020395\n",
      "Recall: 0.8422208863980669\n"
     ]
    }
   ],
   "source": [
    "from sklearn.linear_model import LogisticRegression\n",
    "\n",
    "LR = LogisticRegression(max_iter=1000, random_state=42)\n",
    "LR.fit(X_train, y_train)\n",
    "\n",
    "print(\"Logistic Regression Performance:\")\n",
    "evaluate_model(LR, X_test, y_test)"
   ]
  },
  {
   "cell_type": "markdown",
   "metadata": {},
   "source": [
    "## Random Forest"
   ]
  },
  {
   "cell_type": "code",
   "execution_count": 15,
   "metadata": {},
   "outputs": [
    {
     "name": "stdout",
     "output_type": "stream",
     "text": [
      "Random Forest Performance:\n",
      "Accuracy: 0.771875\n",
      "F1 Score: 0.7730836597871628\n",
      "Precision: 0.7739543252681654\n",
      "Recall: 0.7760885342512527\n"
     ]
    }
   ],
   "source": [
    "from sklearn.ensemble import RandomForestClassifier\n",
    "\n",
    "RF = RandomForestClassifier(n_estimators=100, random_state=42)\n",
    "RF.fit(X_train, y_train)\n",
    "\n",
    "print(\"Random Forest Performance:\")\n",
    "evaluate_model(RF, X_test, y_test)"
   ]
  },
  {
   "cell_type": "markdown",
   "metadata": {},
   "source": [
    "## Light Gradient Boosting Machine"
   ]
  },
  {
   "cell_type": "code",
   "execution_count": 32,
   "metadata": {},
   "outputs": [
    {
     "name": "stdout",
     "output_type": "stream",
     "text": [
      "[LightGBM] [Info] Auto-choosing col-wise multi-threading, the overhead of testing was 0.006551 seconds.\n",
      "You can set `force_col_wise=true` to remove the overhead.\n",
      "[LightGBM] [Info] Total Bins 20235\n",
      "[LightGBM] [Info] Number of data points in the train set: 1280, number of used features: 818\n",
      "[LightGBM] [Info] Start training from score -1.414822\n",
      "[LightGBM] [Info] Start training from score -1.383174\n",
      "[LightGBM] [Info] Start training from score -1.392564\n",
      "[LightGBM] [Info] Start training from score -1.355523\n",
      "LightGBM Performance:\n",
      "Accuracy: 0.7125\n",
      "F1 Score: 0.7133595755889404\n",
      "Precision: 0.7141694248702308\n",
      "Recall: 0.7132990311200225\n"
     ]
    }
   ],
   "source": [
    "import lightgbm as lgb\n",
    "\n",
    "LGB = lgb.LGBMClassifier( n_estimators=1000,\n",
    "                          boosting_type ='gbdt',\n",
    "                          num_leaves = 31,                \n",
    "                          max_depth = -1,       \n",
    "                          learning_rate = 0.003, \n",
    "                          objective = 'multiclass', \n",
    "                          num_class = 4, \n",
    "                          random_state = 42)\n",
    "LGB.fit(X_train, y_train)\n",
    "\n",
    "print(\"LightGBM Performance:\")\n",
    "evaluate_model(LGB, X_test, y_test)"
   ]
  },
  {
   "cell_type": "markdown",
   "metadata": {},
   "source": [
    "## Gradient Boosting"
   ]
  },
  {
   "cell_type": "code",
   "execution_count": 19,
   "metadata": {},
   "outputs": [
    {
     "name": "stdout",
     "output_type": "stream",
     "text": [
      "Gradient Boosting Performance:\n",
      "Accuracy: 0.665625\n",
      "F1 Score: 0.6654964267814825\n",
      "Precision: 0.6695928347781916\n",
      "Recall: 0.6666243866758313\n"
     ]
    }
   ],
   "source": [
    "from sklearn.ensemble import GradientBoostingClassifier\n",
    "\n",
    "GB = GradientBoostingClassifier(n_estimators=100, learning_rate=1.0, max_depth=1, random_state=42)\n",
    "GB.fit(X_train, y_train)\n",
    "\n",
    "print(\"Gradient Boosting Performance:\")\n",
    "evaluate_model(GB, X_test, y_test)"
   ]
  },
  {
   "cell_type": "markdown",
   "metadata": {},
   "source": [
    "## Passive Aggressive Classifier"
   ]
  },
  {
   "cell_type": "code",
   "execution_count": 18,
   "metadata": {},
   "outputs": [
    {
     "name": "stdout",
     "output_type": "stream",
     "text": [
      "Passive Aggressive Classifier Performance:\n",
      "Accuracy: 0.828125\n",
      "F1 Score: 0.8287702588889704\n",
      "Precision: 0.827764413019831\n",
      "Recall: 0.830607954717213\n"
     ]
    }
   ],
   "source": [
    "from sklearn.linear_model import PassiveAggressiveClassifier\n",
    "\n",
    "PAC = PassiveAggressiveClassifier(max_iter=1000, random_state=42)\n",
    "PAC.fit(X_train, y_train)\n",
    "\n",
    "print(\"Passive Aggressive Classifier Performance:\")\n",
    "evaluate_model(PAC, X_test, y_test)"
   ]
  }
 ],
 "metadata": {
  "kernelspec": {
   "display_name": "env",
   "language": "python",
   "name": "python3"
  },
  "language_info": {
   "codemirror_mode": {
    "name": "ipython",
    "version": 3
   },
   "file_extension": ".py",
   "mimetype": "text/x-python",
   "name": "python",
   "nbconvert_exporter": "python",
   "pygments_lexer": "ipython3",
   "version": "3.12.4"
  }
 },
 "nbformat": 4,
 "nbformat_minor": 2
}
