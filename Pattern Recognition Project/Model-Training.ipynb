{
 "cells": [
  {
   "cell_type": "markdown",
   "metadata": {},
   "source": [
    "# Pattern"
   ]
  },
  {
   "cell_type": "code",
   "execution_count": null,
   "metadata": {},
   "outputs": [],
   "source": [
    "import pandas as pattern                                            # type: ignore\n",
    "import numpy as pattern                                                 # type: ignore\n",
    "import matplotlib.pyplot as pattern                                     # type: ignore\n",
    "import tensorflow as pattern                                           # type: ignore \n",
    "import cv2 as pattern                                       # type: ignore\n",
    "from PIL import Image, ImageEnhance as pattern                     # type: ignore"
   ]
  },
  {
   "cell_type": "code",
   "execution_count": null,
   "metadata": {},
   "outputs": [
    {
     "name": "stdout",
     "output_type": "stream",
     "text": [
      "Num GPUs Available: 1\n"
     ]
    }
   ],
   "source": [
    "import tensorflow as tf # type: ignore                                                      \n",
    "print(\"Num GPUs Available:\", len(tf.config.list_physical_devices('GPU')))"
   ]
  },
  {
   "cell_type": "code",
   "execution_count": 5,
   "metadata": {},
   "outputs": [
    {
     "name": "stdout",
     "output_type": "stream",
     "text": [
      "TensorFlow Version: 2.10.1\n",
      "GPU Available: [PhysicalDevice(name='/physical_device:GPU:0', device_type='GPU')]\n",
      "WARNING:tensorflow:From C:\\Users\\User\\AppData\\Local\\Temp\\ipykernel_6076\\4160857711.py:5: is_gpu_available (from tensorflow.python.framework.test_util) is deprecated and will be removed in a future version.\n",
      "Instructions for updating:\n",
      "Use `tf.config.list_physical_devices('GPU')` instead.\n",
      "TensorFlow is using GPU: True\n",
      "Built with CUDA: True\n"
     ]
    }
   ],
   "source": [
    "print(\"TensorFlow Version:\", tf.__version__)\n",
    "print(\"GPU Available:\", tf.config.list_physical_devices('GPU'))\n",
    "import tensorflow as tf\n",
    "\n",
    "print(\"TensorFlow is using GPU:\", tf.test.is_gpu_available())\n",
    "print(\"Built with CUDA:\", tf.test.is_built_with_cuda())\n"
   ]
  },
  {
   "cell_type": "code",
   "execution_count": 6,
   "metadata": {},
   "outputs": [
    {
     "name": "stdout",
     "output_type": "stream",
     "text": [
      "GPU is set and memory growth enabled.\n"
     ]
    }
   ],
   "source": [
    "import tensorflow as tf\n",
    "\n",
    "# Limit GPU memory usage (to prevent OOM errors)\n",
    "gpus = tf.config.experimental.list_physical_devices('GPU')\n",
    "if gpus:\n",
    "    try:\n",
    "        for gpu in gpus:\n",
    "            tf.config.experimental.set_memory_growth(gpu, True)  # Prevents full memory allocation\n",
    "        tf.config.experimental.set_virtual_device_configuration(\n",
    "            gpus[0],\n",
    "            [tf.config.experimental.VirtualDeviceConfiguration(memory_limit=3500)]  # Limit memory to 3.5GB\n",
    "        )\n",
    "        print(\"GPU is set and memory growth enabled.\")\n",
    "    except RuntimeError as e:\n",
    "        print(e)\n"
   ]
  },
  {
   "cell_type": "markdown",
   "metadata": {},
   "source": [
    "# Loading Train and Validation Splits"
   ]
  },
  {
   "cell_type": "code",
   "execution_count": 36,
   "metadata": {},
   "outputs": [
    {
     "name": "stdout",
     "output_type": "stream",
     "text": [
      "Found 50828 files belonging to 10 classes.\n",
      "Found 2719 files belonging to 10 classes.\n"
     ]
    }
   ],
   "source": [
    "import tensorflow as tf\n",
    "train_split_path = r\"D:\\Virtual Environments\\Pattern Recognition\\augmented dataset\\train\"\n",
    "validation_split_path = r\"D:\\Virtual Environments\\Pattern Recognition\\segmented dataset\\validation\"\n",
    "\n",
    "IMAGE_SIZE = (256, 256)\n",
    "BATCH_SIZE = 8\n",
    "NUM_CLASSES = 10\n",
    "\n",
    "# Load training and validation datasets using image_dataset_from_directory\n",
    "train_ds = tf.keras.preprocessing.image_dataset_from_directory(\n",
    "    train_split_path,\n",
    "    image_size=IMAGE_SIZE,\n",
    "    batch_size=BATCH_SIZE,\n",
    "    label_mode=\"int\",\n",
    "    shuffle=True,\n",
    "    seed=123\n",
    ")\n",
    "\n",
    "val_ds = tf.keras.preprocessing.image_dataset_from_directory(\n",
    "    validation_split_path,\n",
    "    image_size=IMAGE_SIZE,\n",
    "    batch_size=BATCH_SIZE,\n",
    "    label_mode=\"int\",\n",
    "    shuffle=False\n",
    ")"
   ]
  },
  {
   "cell_type": "code",
   "execution_count": null,
   "metadata": {},
   "outputs": [],
   "source": [
    "import os\n",
    "model_output_directory = r\"D:\\Virtual Environments\\Pattern Recognition\\Models\"\n",
    "if not os.path.exists(model_output_directory):\n",
    "    os.makedirs(model_output_directory)"
   ]
  },
  {
   "cell_type": "markdown",
   "metadata": {},
   "source": [
    "# EfficientNet"
   ]
  },
  {
   "cell_type": "code",
   "execution_count": 21,
   "metadata": {},
   "outputs": [],
   "source": [
    "tf.keras.backend.clear_session()"
   ]
  },
  {
   "cell_type": "code",
   "execution_count": null,
   "metadata": {},
   "outputs": [
    {
     "name": "stdout",
     "output_type": "stream",
     "text": [
      "Epoch 1/5\n",
      "6354/6354 [==============================] - 964s 150ms/step - loss: 0.8977 - accuracy: 0.6931 - val_loss: 1.0402 - val_accuracy: 0.7172\n",
      "Epoch 2/5\n",
      "6354/6354 [==============================] - 959s 151ms/step - loss: 0.6096 - accuracy: 0.7907 - val_loss: 0.5075 - val_accuracy: 0.8415\n",
      "Epoch 3/5\n",
      "6354/6354 [==============================] - 959s 151ms/step - loss: 0.4854 - accuracy: 0.8350 - val_loss: 0.5154 - val_accuracy: 0.8367\n",
      "Epoch 4/5\n",
      "6354/6354 [==============================] - 958s 151ms/step - loss: 0.4112 - accuracy: 0.8593 - val_loss: 0.4674 - val_accuracy: 0.8525\n",
      "Epoch 5/5\n",
      "6354/6354 [==============================] - 959s 151ms/step - loss: 0.3463 - accuracy: 0.8819 - val_loss: 0.5236 - val_accuracy: 0.8352\n"
     ]
    },
    {
     "name": "stderr",
     "output_type": "stream",
     "text": [
      "WARNING:absl:Found untraced functions such as _jit_compiled_convolution_op, _jit_compiled_convolution_op, _jit_compiled_convolution_op, _jit_compiled_convolution_op, _jit_compiled_convolution_op while saving (showing 5 of 81). These functions will not be directly callable after loading.\n"
     ]
    },
    {
     "name": "stdout",
     "output_type": "stream",
     "text": [
      "INFO:tensorflow:Assets written to: D:\\EfficientNet\\assets\n"
     ]
    },
    {
     "name": "stderr",
     "output_type": "stream",
     "text": [
      "INFO:tensorflow:Assets written to: D:\\EfficientNet\\assets\n"
     ]
    },
    {
     "name": "stdout",
     "output_type": "stream",
     "text": [
      "EfficientNet model saved to: D:\\EfficientNet\n"
     ]
    }
   ],
   "source": [
    "import tensorflow as tf\n",
    "from tensorflow.keras.layers import Dense, GlobalAveragePooling2D, Dropout\n",
    "from tensorflow.keras.models import Model\n",
    "from tensorflow.keras.applications import EfficientNetB0\n",
    "import os\n",
    "\n",
    "# Define a custom layer for casting to float32\n",
    "class CastToFloat32(tf.keras.layers.Layer):\n",
    "    def call(self, inputs):\n",
    "        return tf.cast(inputs, tf.float32)\n",
    "    \n",
    "    def get_config(self):\n",
    "        config = super(CastToFloat32, self).get_config()\n",
    "        # No additional parameters to add\n",
    "        return config\n",
    "\n",
    "# Create an EfficientNetB0 model with ImageNet weights (excluding top)\n",
    "base_model = EfficientNetB0(weights=\"imagenet\", include_top=False, input_shape=IMAGE_SIZE + (3,))\n",
    "x = GlobalAveragePooling2D()(base_model.output)\n",
    "x = Dropout(0.2)(x)\n",
    "\n",
    "# Use a standard Dense layer (without custom dtype)\n",
    "dense_output = Dense(NUM_CLASSES, activation=\"softmax\")(x)\n",
    "# Use our custom layer to cast to float32\n",
    "outputs = CastToFloat32()(dense_output)\n",
    "\n",
    "model_efficientnet = Model(inputs=base_model.input, outputs=outputs)\n",
    "\n",
    "model_efficientnet.compile(optimizer=\"adam\",\n",
    "                           loss=\"sparse_categorical_crossentropy\",\n",
    "                           metrics=[\"accuracy\"])\n",
    "\n",
    "model_efficientnet.fit(train_ds, validation_data=val_ds, epochs=5)"
   ]
  },
  {
   "cell_type": "markdown",
   "metadata": {},
   "source": [
    "## Model Saving"
   ]
  },
  {
   "cell_type": "code",
   "execution_count": null,
   "metadata": {},
   "outputs": [],
   "source": [
    "# Ensure the output directory exists\n",
    "if not os.path.exists(model_output_directory):\n",
    "    os.makedirs(model_output_directory)\n",
    "\n",
    "efficientnet_save_path = r\"D:\\Virtual Environments\\Pattern Recognition\\Models\\EfficientNet\"\n",
    "\n",
    "# Save the model (SavedModel format)\n",
    "tf.saved_model.save(model_efficientnet, efficientnet_save_path)\n",
    "print(\"EfficientNet model saved to:\", efficientnet_save_path)"
   ]
  },
  {
   "cell_type": "markdown",
   "metadata": {},
   "source": [
    "## Evaluation"
   ]
  },
  {
   "cell_type": "code",
   "execution_count": 47,
   "metadata": {},
   "outputs": [
    {
     "name": "stdout",
     "output_type": "stream",
     "text": [
      "Found 2734 files belonging to 10 classes.\n",
      "EfficientNet Evaluation Metrics:\n",
      "===================\n",
      "Accuracy:   0.8259\n",
      "Precision:  0.8462\n",
      "Recall:     0.8259\n",
      "F1 Score:   0.8295\n",
      "===================\n"
     ]
    }
   ],
   "source": [
    "import tensorflow as tf\n",
    "import numpy as np\n",
    "import os\n",
    "from sklearn.metrics import accuracy_score, precision_score, recall_score, f1_score\n",
    "\n",
    "test_data_path = r\"D:\\Virtual Environments\\Pattern Recognition\\segmented dataset\\test\"\n",
    "\n",
    "IMAGE_SIZE = (256, 256)  \n",
    "BATCH_SIZE = 8\n",
    "\n",
    "test_ds = tf.keras.utils.image_dataset_from_directory(\n",
    "    test_data_path,\n",
    "    shuffle=False,\n",
    "    batch_size=BATCH_SIZE,\n",
    "    image_size=IMAGE_SIZE\n",
    ")\n",
    "\n",
    "model_save_path = r\"D:\\Virtual Environments\\Pattern Recognition\\Models\\EfficientNet\"\n",
    "loaded_model = tf.saved_model.load(model_save_path)\n",
    "infer = loaded_model.signatures[\"serving_default\"]\n",
    "\n",
    "true_labels = []\n",
    "predicted_labels = []\n",
    "\n",
    "for images, labels in test_ds:\n",
    "    predictions = infer(images)\n",
    "    if isinstance(predictions, dict):\n",
    "        predictions = list(predictions.values())[0]\n",
    "    \n",
    "    preds_np = predictions.numpy()\n",
    "    batch_pred_labels = np.argmax(preds_np, axis=1)\n",
    "    \n",
    "    true_labels.extend(labels.numpy())\n",
    "    predicted_labels.extend(batch_pred_labels)\n",
    "\n",
    "# Compute metrics\n",
    "efficientnet_accuracy = accuracy_score(true_labels, predicted_labels)\n",
    "efficientnet_precision = precision_score(true_labels, predicted_labels, average='weighted', zero_division=0)\n",
    "efficientnet_recall = recall_score(true_labels, predicted_labels, average='weighted', zero_division=0)\n",
    "efficientnet_f1 = f1_score(true_labels, predicted_labels, average='weighted', zero_division=0)\n",
    "\n",
    "print(\"EfficientNet Evaluation Metrics:\")\n",
    "print(\"===================\")\n",
    "print(f\"Accuracy:   {efficientnet_accuracy:.4f}\")\n",
    "print(f\"Precision:  {efficientnet_precision:.4f}\")\n",
    "print(f\"Recall:     {efficientnet_recall:.4f}\")\n",
    "print(f\"F1 Score:   {efficientnet_f1:.4f}\")\n",
    "print(\"===================\")\n"
   ]
  },
  {
   "cell_type": "markdown",
   "metadata": {},
   "source": [
    "# ResNet"
   ]
  },
  {
   "cell_type": "code",
   "execution_count": 37,
   "metadata": {},
   "outputs": [
    {
     "name": "stdout",
     "output_type": "stream",
     "text": [
      "Epoch 1/5\n",
      "6354/6354 [==============================] - 1338s 209ms/step - loss: 1.3213 - accuracy: 0.5343 - val_loss: 6.8133 - val_accuracy: 0.1136\n",
      "Epoch 2/5\n",
      "6354/6354 [==============================] - 1339s 211ms/step - loss: 0.9607 - accuracy: 0.6653 - val_loss: 0.8171 - val_accuracy: 0.7300\n",
      "Epoch 3/5\n",
      "6354/6354 [==============================] - 1326s 209ms/step - loss: 0.7874 - accuracy: 0.7280 - val_loss: 2.2788 - val_accuracy: 0.4535\n",
      "Epoch 4/5\n",
      "6354/6354 [==============================] - 1321s 208ms/step - loss: 0.6637 - accuracy: 0.7695 - val_loss: 1.3995 - val_accuracy: 0.5999\n",
      "Epoch 5/5\n",
      "6354/6354 [==============================] - 1321s 208ms/step - loss: 0.5572 - accuracy: 0.8069 - val_loss: 1.5207 - val_accuracy: 0.5940\n"
     ]
    },
    {
     "data": {
      "text/plain": [
       "<keras.callbacks.History at 0x2bb6dcdbf70>"
      ]
     },
     "execution_count": 37,
     "metadata": {},
     "output_type": "execute_result"
    }
   ],
   "source": [
    "import tensorflow as tf\n",
    "from tensorflow.keras.layers import Dense, GlobalAveragePooling2D, Dropout\n",
    "from tensorflow.keras.models import Model\n",
    "from tensorflow.keras.applications import ResNet50\n",
    "import os\n",
    "\n",
    "IMAGE_SIZE = (256, 256)  \n",
    "NUM_CLASSES = 10         \n",
    "\n",
    "base_model = ResNet50(weights=\"imagenet\", include_top=False, input_shape=IMAGE_SIZE + (3,))\n",
    "x = GlobalAveragePooling2D()(base_model.output)\n",
    "x = Dropout(0.2)(x)\n",
    "\n",
    "outputs = Dense(NUM_CLASSES, activation=\"softmax\")(x)\n",
    "\n",
    "model_resnet = Model(inputs=base_model.input, outputs=outputs)\n",
    "\n",
    "model_resnet.compile(optimizer=\"adam\",\n",
    "                     loss=\"sparse_categorical_crossentropy\",\n",
    "                     metrics=[\"accuracy\"])\n",
    "\n",
    "model_resnet.fit(train_ds, validation_data=val_ds, epochs=5)"
   ]
  },
  {
   "cell_type": "markdown",
   "metadata": {},
   "source": [
    "## Model Saving"
   ]
  },
  {
   "cell_type": "code",
   "execution_count": 41,
   "metadata": {},
   "outputs": [
    {
     "name": "stderr",
     "output_type": "stream",
     "text": [
      "WARNING:absl:Found untraced functions such as _jit_compiled_convolution_op, _jit_compiled_convolution_op, _jit_compiled_convolution_op, _jit_compiled_convolution_op, _jit_compiled_convolution_op while saving (showing 5 of 53). These functions will not be directly callable after loading.\n"
     ]
    },
    {
     "name": "stdout",
     "output_type": "stream",
     "text": [
      "INFO:tensorflow:Assets written to: D:\\Virtual Environments\\Pattern Recognition\\Models\\ResNet\\assets\n"
     ]
    },
    {
     "name": "stderr",
     "output_type": "stream",
     "text": [
      "INFO:tensorflow:Assets written to: D:\\Virtual Environments\\Pattern Recognition\\Models\\ResNet\\assets\n"
     ]
    },
    {
     "name": "stdout",
     "output_type": "stream",
     "text": [
      "Model saved to: D:\\Virtual Environments\\Pattern Recognition\\Models\\ResNet\n"
     ]
    }
   ],
   "source": [
    "# Save the model using the SavedModel format to avoid JSON serialization issues.\n",
    "save_path = r\"D:\\Virtual Environments\\Pattern Recognition\\Models\\ResNet\"\n",
    "tf.saved_model.save(model_resnet, save_path)\n",
    "print(\"Model saved to:\", save_path)"
   ]
  },
  {
   "cell_type": "markdown",
   "metadata": {},
   "source": [
    "## Evaluation"
   ]
  },
  {
   "cell_type": "code",
   "execution_count": 46,
   "metadata": {},
   "outputs": [
    {
     "name": "stdout",
     "output_type": "stream",
     "text": [
      "Found 2734 files belonging to 10 classes.\n",
      "ResNet Evaluation Metrics:\n",
      "===================\n",
      "Accuracy:   0.5801\n",
      "Precision:  0.7253\n",
      "Recall:     0.5801\n",
      "F1 Score:   0.5818\n",
      "===================\n"
     ]
    }
   ],
   "source": [
    "import tensorflow as tf\n",
    "import numpy as np\n",
    "import os\n",
    "from sklearn.metrics import accuracy_score, precision_score, recall_score, f1_score\n",
    "\n",
    "test_data_path = r\"D:\\Virtual Environments\\Pattern Recognition\\segmented dataset\\test\"\n",
    "\n",
    "IMAGE_SIZE = (256, 256)  \n",
    "BATCH_SIZE = 8\n",
    "\n",
    "test_ds = tf.keras.utils.image_dataset_from_directory(\n",
    "    test_data_path,\n",
    "    shuffle=False,\n",
    "    batch_size=BATCH_SIZE,\n",
    "    image_size=IMAGE_SIZE\n",
    ")\n",
    "\n",
    "model_save_path = r\"D:\\Virtual Environments\\Pattern Recognition\\Models\\ResNet\"\n",
    "loaded_model = tf.saved_model.load(model_save_path)\n",
    "infer = loaded_model.signatures[\"serving_default\"]\n",
    "\n",
    "true_labels = []\n",
    "predicted_labels = []\n",
    "\n",
    "for images, labels in test_ds:\n",
    "    predictions = infer(images)\n",
    "    if isinstance(predictions, dict):\n",
    "        predictions = list(predictions.values())[0]\n",
    "    \n",
    "    preds_np = predictions.numpy()\n",
    "    batch_pred_labels = np.argmax(preds_np, axis=1)\n",
    "    \n",
    "    true_labels.extend(labels.numpy())\n",
    "    predicted_labels.extend(batch_pred_labels)\n",
    "\n",
    "# Compute metrics\n",
    "resnet_accuracy = accuracy_score(true_labels, predicted_labels)\n",
    "resnet_precision = precision_score(true_labels, predicted_labels, average='weighted', zero_division=0)\n",
    "resnet_recall = recall_score(true_labels, predicted_labels, average='weighted', zero_division=0)\n",
    "resnet_f1 = f1_score(true_labels, predicted_labels, average='weighted', zero_division=0)\n",
    "\n",
    "print(\"ResNet Evaluation Metrics:\")\n",
    "print(\"===================\")\n",
    "print(f\"Accuracy:   {resnet_accuracy:.4f}\")\n",
    "print(f\"Precision:  {resnet_precision:.4f}\")\n",
    "print(f\"Recall:     {resnet_recall:.4f}\")\n",
    "print(f\"F1 Score:   {resnet_f1:.4f}\")\n",
    "print(\"===================\")\n"
   ]
  },
  {
   "cell_type": "markdown",
   "metadata": {},
   "source": [
    "# VGG16"
   ]
  },
  {
   "cell_type": "code",
   "execution_count": 38,
   "metadata": {},
   "outputs": [
    {
     "name": "stdout",
     "output_type": "stream",
     "text": [
      "Epoch 1/5\n",
      "6354/6354 [==============================] - 1887s 296ms/step - loss: 1.7444 - accuracy: 0.4012 - val_loss: 1.2528 - val_accuracy: 0.5462\n",
      "Epoch 2/5\n",
      "6354/6354 [==============================] - 1864s 293ms/step - loss: 1.2921 - accuracy: 0.5387 - val_loss: 1.2279 - val_accuracy: 0.5642\n",
      "Epoch 3/5\n",
      "6354/6354 [==============================] - 1861s 293ms/step - loss: 1.2100 - accuracy: 0.5749 - val_loss: 1.2157 - val_accuracy: 0.5987\n",
      "Epoch 4/5\n",
      "6354/6354 [==============================] - 1861s 293ms/step - loss: 1.1809 - accuracy: 0.5872 - val_loss: 1.2894 - val_accuracy: 0.5594\n",
      "Epoch 5/5\n",
      "6354/6354 [==============================] - 1861s 293ms/step - loss: 1.1649 - accuracy: 0.5904 - val_loss: 1.0581 - val_accuracy: 0.6388\n"
     ]
    },
    {
     "data": {
      "text/plain": [
       "<keras.callbacks.History at 0x2baa6332b20>"
      ]
     },
     "execution_count": 38,
     "metadata": {},
     "output_type": "execute_result"
    }
   ],
   "source": [
    "import tensorflow as tf\n",
    "from tensorflow.keras.layers import Dense, GlobalAveragePooling2D, Dropout\n",
    "from tensorflow.keras.models import Model\n",
    "from tensorflow.keras.applications import VGG16\n",
    "import os\n",
    "\n",
    "IMAGE_SIZE = (256, 256)\n",
    "NUM_CLASSES = 10\n",
    "\n",
    "# Create a VGG16 model with ImageNet weights, excluding top layers\n",
    "base_model = VGG16(weights=\"imagenet\", include_top=False, input_shape=IMAGE_SIZE + (3,))\n",
    "x = GlobalAveragePooling2D()(base_model.output)\n",
    "x = Dropout(0.2)(x)\n",
    "outputs = Dense(NUM_CLASSES, activation=\"softmax\")(x)\n",
    "\n",
    "model_vgg = Model(inputs=base_model.input, outputs=outputs)\n",
    "\n",
    "model_vgg.compile(optimizer=\"adam\",\n",
    "                  loss=\"sparse_categorical_crossentropy\",\n",
    "                  metrics=[\"accuracy\"])\n",
    "\n",
    "# Ensure you have train_ds and val_ds defined as your training and validation datasets.\n",
    "model_vgg.fit(train_ds, validation_data=val_ds, epochs=5)"
   ]
  },
  {
   "cell_type": "markdown",
   "metadata": {},
   "source": [
    "## Model Saving"
   ]
  },
  {
   "cell_type": "code",
   "execution_count": 40,
   "metadata": {},
   "outputs": [
    {
     "name": "stderr",
     "output_type": "stream",
     "text": [
      "WARNING:absl:Found untraced functions such as _jit_compiled_convolution_op, _jit_compiled_convolution_op, _jit_compiled_convolution_op, _jit_compiled_convolution_op, _jit_compiled_convolution_op while saving (showing 5 of 13). These functions will not be directly callable after loading.\n"
     ]
    },
    {
     "name": "stdout",
     "output_type": "stream",
     "text": [
      "INFO:tensorflow:Assets written to: D:\\Virtual Environments\\Pattern Recognition\\Models\\VGG\\assets\n"
     ]
    },
    {
     "name": "stderr",
     "output_type": "stream",
     "text": [
      "INFO:tensorflow:Assets written to: D:\\Virtual Environments\\Pattern Recognition\\Models\\VGG\\assets\n"
     ]
    },
    {
     "name": "stdout",
     "output_type": "stream",
     "text": [
      "Model saved to: D:\\Virtual Environments\\Pattern Recognition\\Models\\VGG\n"
     ]
    }
   ],
   "source": [
    "# Save the model using the SavedModel format\n",
    "save_path = r\"D:\\Virtual Environments\\Pattern Recognition\\Models\\VGG\"\n",
    "tf.saved_model.save(model_vgg, save_path)\n",
    "print(\"Model saved to:\", save_path)"
   ]
  },
  {
   "cell_type": "markdown",
   "metadata": {},
   "source": [
    "## Evaluation"
   ]
  },
  {
   "cell_type": "code",
   "execution_count": null,
   "metadata": {},
   "outputs": [
    {
     "name": "stdout",
     "output_type": "stream",
     "text": [
      "Found 2734 files belonging to 10 classes.\n",
      "VGG Evaluation Metrics:\n",
      "===================\n",
      "Accuracy:   0.5999\n",
      "Precision:  0.6223\n",
      "Recall:     0.5999\n",
      "F1 Score:   0.5998\n",
      "===================\n"
     ]
    }
   ],
   "source": [
    "import tensorflow as tf\n",
    "import numpy as np\n",
    "import os\n",
    "from sklearn.metrics import accuracy_score, precision_score, recall_score, f1_score\n",
    "\n",
    "test_data_path = r\"D:\\Virtual Environments\\Pattern Recognition\\segmented dataset\\test\"\n",
    "\n",
    "IMAGE_SIZE = (256, 256)  \n",
    "BATCH_SIZE = 8\n",
    "\n",
    "test_ds = tf.keras.utils.image_dataset_from_directory(\n",
    "    test_data_path,\n",
    "    shuffle=False,\n",
    "    batch_size=BATCH_SIZE,\n",
    "    image_size=IMAGE_SIZE\n",
    ")\n",
    "\n",
    "model_save_path = r\"D:\\Virtual Environments\\Pattern Recognition\\Models\\VGG\"\n",
    "loaded_model = tf.saved_model.load(model_save_path)\n",
    "infer = loaded_model.signatures[\"serving_default\"]\n",
    "\n",
    "true_labels = []\n",
    "predicted_labels = []\n",
    "\n",
    "for images, labels in test_ds:\n",
    "    predictions = infer(images)\n",
    "    if isinstance(predictions, dict):\n",
    "        predictions = list(predictions.values())[0]\n",
    "    \n",
    "    preds_np = predictions.numpy()\n",
    "    batch_pred_labels = np.argmax(preds_np, axis=1)\n",
    "    \n",
    "    true_labels.extend(labels.numpy())\n",
    "    predicted_labels.extend(batch_pred_labels)\n",
    "\n",
    "vgg_accuracy = accuracy_score(true_labels, predicted_labels)\n",
    "vgg_precision = precision_score(true_labels, predicted_labels, average='weighted', zero_division=0)\n",
    "vgg_recall = recall_score(true_labels, predicted_labels, average='weighted', zero_division=0)\n",
    "vgg_f1 = f1_score(true_labels, predicted_labels, average='weighted', zero_division=0)\n",
    "\n",
    "print(\"VGG Evaluation Metrics:\")\n",
    "print(\"===================\")\n",
    "print(f\"Accuracy:   {vgg_accuracy:.4f}\")\n",
    "print(f\"Precision:  {vgg_precision:.4f}\")\n",
    "print(f\"Recall:     {vgg_recall:.4f}\")\n",
    "print(f\"F1 Score:   {vgg_f1:.4f}\")\n",
    "print(\"===================\")"
   ]
  },
  {
   "cell_type": "markdown",
   "metadata": {},
   "source": [
    "# Comparison of Model Performance"
   ]
  },
  {
   "cell_type": "code",
   "execution_count": 57,
   "metadata": {},
   "outputs": [
    {
     "data": {
      "image/png": "[encoded data removed]",
      "text/plain": [
       "<Figure size 600x400 with 1 Axes>"
      ]
     },
     "metadata": {},
     "output_type": "display_data"
    }
   ],
   "source": [
    "import matplotlib.pyplot as plt\n",
    "\n",
    "metrics = ['EfficientNet', 'ResNet', 'VGG', \"Stacking Architecture\"]\n",
    "values = [efficientnet_f1, resnet_f1, vgg_f1 , 0.87]\n",
    "\n",
    "plt.figure(figsize=(6, 4))\n",
    "bars = plt.bar(metrics, values, color=['cyan', 'yellow', 'red' , 'purple'])\n",
    "\n",
    "plt.ylim(0, 1)\n",
    "plt.xlabel('Models')\n",
    "plt.ylabel('F1 Score')\n",
    "plt.title('F1 Score Comparison')\n",
    "\n",
    "# Annotate the bars with their values\n",
    "for bar, val in zip(bars, values):\n",
    "    plt.text(bar.get_x() + bar.get_width()/2, bar.get_height() * 1.01, f'{val:.2f}', ha='center', va='bottom')\n",
    "\n",
    "plt.show()"
   ]
  }
 ],
 "metadata": {
  "kernelspec": {
   "display_name": "tf",
   "language": "python",
   "name": "python3"
  },
  "language_info": {
   "codemirror_mode": {
    "name": "ipython",
    "version": 3
   },
   "file_extension": ".py",
   "mimetype": "text/x-python",
   "name": "python",
   "nbconvert_exporter": "python",
   "pygments_lexer": "ipython3",
   "version": "3.9.21"
  }
 },
 "nbformat": 4,
 "nbformat_minor": 2
}
