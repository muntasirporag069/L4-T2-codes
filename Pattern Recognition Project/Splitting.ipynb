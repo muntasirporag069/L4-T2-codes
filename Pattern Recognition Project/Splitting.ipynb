{
 "cells": [
  {
   "cell_type": "markdown",
   "metadata": {},
   "source": [
    "# Train-Test-Validation Splitting"
   ]
  },
  {
   "cell_type": "code",
   "execution_count": 1,
   "metadata": {},
   "outputs": [
    {
     "name": "stdout",
     "output_type": "stream",
     "text": [
      "Class 'Tomato___Bacterial_spot': 1488 train, 319 validation, 320 test images copied.\n",
      "Class 'Tomato___Early_blight': 700 train, 150 validation, 150 test images copied.\n",
      "Class 'Tomato___healthy': 1113 train, 238 validation, 240 test images copied.\n",
      "Class 'Tomato___Late_blight': 1336 train, 286 validation, 287 test images copied.\n",
      "Class 'Tomato___Leaf_Mold': 666 train, 142 validation, 144 test images copied.\n",
      "Class 'Tomato___Septoria_leaf_spot': 1239 train, 265 validation, 267 test images copied.\n",
      "Class 'Tomato___Spider_mites Two-spotted_spider_mite': 1173 train, 251 validation, 252 test images copied.\n",
      "Class 'Tomato___Target_Spot': 982 train, 210 validation, 212 test images copied.\n",
      "Class 'Tomato___Tomato_mosaic_virus': 261 train, 55 validation, 57 test images copied.\n",
      "Class 'Tomato___Tomato_Yellow_Leaf_Curl_Virus': 3749 train, 803 validation, 805 test images copied.\n"
     ]
    }
   ],
   "source": [
    "import os\n",
    "import shutil\n",
    "import random\n",
    "\n",
    "input_dir = r\"D:\\Virtual Environments\\Pattern Recognition\\processed dataset\"         \n",
    "output_dir = r\"D:\\Virtual Environments\\Pattern Recognition\\split dataset\"      \n",
    "\n",
    "train_ratio = 0.7\n",
    "val_ratio = 0.15\n",
    "test_ratio = 0.15\n",
    "\n",
    "for split in ['train', 'validation', 'test']:\n",
    "    split_path = os.path.join(output_dir, split)\n",
    "    if not os.path.exists(split_path):\n",
    "        os.makedirs(split_path)\n",
    "\n",
    "#                               Iterating through each class folder in the input directory\n",
    "for class_name in os.listdir(input_dir):\n",
    "    class_folder = os.path.join(input_dir, class_name)\n",
    "    if not os.path.isdir(class_folder):\n",
    "        continue  \n",
    "\n",
    "    images = [f for f in os.listdir(class_folder) if f.lower().endswith(('.png', '.jpg', '.jpeg', '.bmp', '.gif'))]\n",
    "    \n",
    "    random.shuffle(images)\n",
    "\n",
    "    num_images = len(images)\n",
    "    train_count = int(train_ratio * num_images)\n",
    "    val_count = int(val_ratio * num_images)\n",
    "    test_count = num_images - train_count - val_count\n",
    "\n",
    "    #                               Creating class subdirectories in each split folder\n",
    "    for split in ['train', 'validation', 'test']:\n",
    "        split_class_dir = os.path.join(output_dir, split, class_name)\n",
    "        os.makedirs(split_class_dir, exist_ok=True)\n",
    "\n",
    "    #                               Copying images to the train folder\n",
    "    for img in images[:train_count]:\n",
    "        src = os.path.join(class_folder, img)\n",
    "        dst = os.path.join(output_dir, 'train', class_name, img)\n",
    "        shutil.copy2(src, dst)\n",
    "    \n",
    "    #                               Copying images to the validation folder\n",
    "    for img in images[train_count:train_count + val_count]:\n",
    "        src = os.path.join(class_folder, img)\n",
    "        dst = os.path.join(output_dir, 'validation', class_name, img)\n",
    "        shutil.copy2(src, dst)\n",
    "    \n",
    "    #                               Copying images to the test folder\n",
    "    for img in images[train_count + val_count:]:\n",
    "        src = os.path.join(class_folder, img)\n",
    "        dst = os.path.join(output_dir, 'test', class_name, img)\n",
    "        shutil.copy2(src, dst)\n",
    "    \n",
    "    print(f\"Class '{class_name}': {train_count} train, {val_count} validation, {test_count} test images copied.\")\n"
   ]
  }
 ],
 "metadata": {
  "kernelspec": {
   "display_name": "tf",
   "language": "python",
   "name": "python3"
  },
  "language_info": {
   "codemirror_mode": {
    "name": "ipython",
    "version": 3
   },
   "file_extension": ".py",
   "mimetype": "text/x-python",
   "name": "python",
   "nbconvert_exporter": "python",
   "pygments_lexer": "ipython3",
   "version": "3.9.21"
  }
 },
 "nbformat": 4,
 "nbformat_minor": 2
}
